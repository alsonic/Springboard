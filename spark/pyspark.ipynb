{
 "cells": [
  {
   "cell_type": "markdown",
   "metadata": {},
   "source": [
    "# MapReduce using SPARK"
   ]
  },
  {
   "cell_type": "code",
   "execution_count": 1,
   "metadata": {},
   "outputs": [
    {
     "name": "stdout",
     "output_type": "stream",
     "text": [
      "Populating the interactive namespace from numpy and matplotlib\n"
     ]
    }
   ],
   "source": [
    "%pylab inline\n",
    "import pandas as pd\n",
    "import seaborn as sns\n",
    "pd.set_option('display.width', 500)\n",
    "pd.set_option('display.max_columns', 100)"
   ]
  },
  {
   "cell_type": "markdown",
   "metadata": {},
   "source": [
    "# Table of Contents\n",
    "\n",
    "* [SPARK](#SPARK)\n",
    "    * Installing Spark locally\n",
    "* [Spark Context](#Spark-Context)\n",
    "    * [Create A RDD](#Create-A-RDD)\n",
    "    * [Call `collect` on an RDD: Lazy Spark](#Call-collect-on-an-RDD:-Lazy-Spark)\n",
    "    * [Operations on RDDs](#Operations-on-RDDs)\n",
    "    * [Word Examples](#Word-Examples)\n",
    "    * [Key Value Pairs](#Key-Value-Pairs)\n",
    "    * [word count 1](#word-count-1)\n",
    "    * [word count 2:  `reduceByKey()`](#word-count-2:--reduceByKey%28%29)\n",
    "    * [Nested Syntax](#Nested-Syntax)\n",
    "    * [Using Cache](#Using-Cache)\n",
    "    * [Fun with words](#Fun-with-words)\n",
    "    * [DataFrames](#DataFrames)\n",
    "    * [Machine Learning](#Machine-Learning)\n"
   ]
  },
  {
   "cell_type": "markdown",
   "metadata": {
    "slideshow": {
     "slide_type": "slide"
    }
   },
   "source": [
    "With shameless stealing of some code and text from:\n",
    "\n",
    "- https://github.com/tdhopper/rta-pyspark-presentation/blob/master/slides.ipynb\n",
    "- Databricks and Berkeley Spark MOOC: https://www.edx.org/course/introduction-big-data-apache-spark-uc-berkeleyx-cs100-1x\n",
    "\n",
    "which you should go check out."
   ]
  },
  {
   "cell_type": "markdown",
   "metadata": {},
   "source": [
    "## Installing Spark locally\n",
    "\n",
    "\n",
    "**Step 1: Install Apache Spark**\n",
    "\n",
    "For example, for Mac users using Homebrew:\n",
    "\n",
    "```\n",
    "$ brew install apache-spark\n",
    "```"
   ]
  },
  {
   "cell_type": "markdown",
   "metadata": {},
   "source": [
    "**Step 2: Install the Java SDK version 1.8 or above for your platform (not just the JRE runtime)**\n",
    "\n",
    "Make sure you can access commands such as `java` on your command line."
   ]
  },
  {
   "cell_type": "markdown",
   "metadata": {},
   "source": [
    "**Step 3: Install the latest findspark package using pip**\n",
    "\n",
    "```\n",
    "➜  ~  pip install findspark\n",
    "Collecting findspark\n",
    "  Downloading findspark-0.0.5-py2.py3-none-any.whl\n",
    "Installing collected packages: findspark\n",
    "Successfully installed findspark-0.0.5\n",
    "```"
   ]
  },
  {
   "cell_type": "markdown",
   "metadata": {
    "slideshow": {
     "slide_type": "slide"
    }
   },
   "source": [
    "# Spark Context\n",
    "\n",
    "You can also use it directly from the notebook interface on the mac if you installed `apache-spark` using `brew` and also installed `findspark` above."
   ]
  },
  {
   "cell_type": "code",
   "execution_count": 2,
   "metadata": {
    "collapsed": true
   },
   "outputs": [],
   "source": [
    "import findspark\n",
    "findspark.init()\n",
    "import pyspark\n",
    "sc = pyspark.SparkContext()"
   ]
  },
  {
   "cell_type": "markdown",
   "metadata": {},
   "source": [
    "It also output's a bunch of stuff on my terminal. This is because the entire java context is started up.\n",
    "\n",
    "```Using Spark's default log4j profile: org/apache/spark/log4j-defaults.properties\n",
    "15/10/21 14:46:15 INFO SparkContext: Running Spark version 1.4.0\n",
    "2015-10-21 14:46:15.774 java[30685:c003] Unable to load realm info from SCDynamicStore\n",
    "15/10/21 14:46:15 WARN NativeCodeLoader: Unable to load native-hadoop library for your platform... using builtin-java classes where applicable\n",
    "15/10/21 14:46:15 INFO SecurityManager: Changing view acls to: rahul\n",
    "15/10/21 14:46:15 INFO SecurityManager: Changing modify acls to: rahul\n",
    "15/10/21 14:46:15 INFO SecurityManager: SecurityManager: authentication disabled; ui acls disabled; users with view permissions: Set(rahul); users with modify permissions: Set(rahul)\n",
    "15/10/21 14:46:16 INFO Slf4jLogger: Slf4jLogger started\n",
    "15/10/21 14:46:16 INFO Remoting: Starting remoting\n",
    "15/10/21 14:46:16 INFO Remoting: Remoting started; listening on addresses :[akka.tcp://sparkDriver@10.251.101.163:64359]\n",
    "15/10/21 14:46:16 INFO Utils: Successfully started service 'sparkDriver' on port 64359.\n",
    "15/10/21 14:46:16 INFO SparkEnv: Registering MapOutputTracker\n",
    "15/10/21 14:46:16 INFO SparkEnv: Registering BlockManagerMaster\n",
    "15/10/21 14:46:16 INFO DiskBlockManager: Created local directory at /private/var/folders/_f/y76rs29s3c57ykwyz9c8z12c0000gn/T/spark-00a4e09e-e5db-485f-81dc-2e5016e9a27e/blockmgr-8966e07c-223b-4c38-9273-11543aa9d3c1\n",
    "15/10/21 14:46:16 INFO MemoryStore: MemoryStore started with capacity 273.0 MB\n",
    "15/10/21 14:46:16 INFO HttpFileServer: HTTP File server directory is /private/var/folders/_f/y76rs29s3c57ykwyz9c8z12c0000gn/T/spark-00a4e09e-e5db-485f-81dc-2e5016e9a27e/httpd-6af0a9e0-1cfe-42c4-a1bd-e01715b98436\n",
    "15/10/21 14:46:16 INFO HttpServer: Starting HTTP Server\n",
    "15/10/21 14:46:17 INFO Utils: Successfully started service 'HTTP file server' on port 64360.\n",
    "15/10/21 14:46:17 INFO SparkEnv: Registering OutputCommitCoordinator\n",
    "15/10/21 14:46:18 INFO Utils: Successfully started service 'SparkUI' on port 4040.\n",
    "15/10/21 14:46:18 INFO SparkUI: Started SparkUI at http://10.251.101.163:4040\n",
    "15/10/21 14:46:18 INFO Executor: Starting executor ID driver on host localhost\n",
    "15/10/21 14:46:18 INFO Utils: Successfully started service 'org.apache.spark.network.netty.NettyBlockTransferService' on port 64361.\n",
    "15/10/21 14:46:18 INFO NettyBlockTransferService: Server created on 64361\n",
    "15/10/21 14:46:18 INFO BlockManagerMaster: Trying to register BlockManager\n",
    "15/10/21 14:46:18 INFO BlockManagerMasterEndpoint: Registering block manager localhost:64361 with 273.0 MB RAM, BlockManagerId(driver, localhost, 64361)\n",
    "15/10/21 14:46:18 INFO BlockManagerMaster: Registered BlockManager\n",
    "```"
   ]
  },
  {
   "cell_type": "code",
   "execution_count": 3,
   "metadata": {},
   "outputs": [
    {
     "data": {
      "text/html": [
       "\n",
       "        <div>\n",
       "            <p><b>SparkContext</b></p>\n",
       "\n",
       "            <p><a href=\"http://192.168.0.7:4040\">Spark UI</a></p>\n",
       "\n",
       "            <dl>\n",
       "              <dt>Version</dt>\n",
       "                <dd><code>v2.2.1</code></dd>\n",
       "              <dt>Master</dt>\n",
       "                <dd><code>local[*]</code></dd>\n",
       "              <dt>AppName</dt>\n",
       "                <dd><code>pyspark-shell</code></dd>\n",
       "            </dl>\n",
       "        </div>\n",
       "        "
      ],
      "text/plain": [
       "<SparkContext master=local[*] appName=pyspark-shell>"
      ]
     },
     "execution_count": 3,
     "metadata": {},
     "output_type": "execute_result"
    }
   ],
   "source": [
    "sc"
   ]
  },
  {
   "cell_type": "code",
   "execution_count": 4,
   "metadata": {},
   "outputs": [
    {
     "data": {
      "text/plain": [
       "385"
      ]
     },
     "execution_count": 4,
     "metadata": {},
     "output_type": "execute_result"
    }
   ],
   "source": [
    "sc.parallelize([1, 2, 3, 4, 5, 6, 7, 8, 9, 10]).map(lambda x: x**2).sum()"
   ]
  },
  {
   "cell_type": "markdown",
   "metadata": {
    "slideshow": {
     "slide_type": "slide"
    }
   },
   "source": [
    "### Create A RDD\n"
   ]
  },
  {
   "cell_type": "code",
   "execution_count": 6,
   "metadata": {},
   "outputs": [
    {
     "name": "stdout",
     "output_type": "stream",
     "text": [
      "<class 'pyspark.rdd.RDD'>\n"
     ]
    }
   ],
   "source": [
    "wordsList = ['cat', 'elephant', 'rat', 'rat', 'cat']\n",
    "wordsRDD = sc.parallelize(wordsList, 4)\n",
    "# Print out the type of wordsRDD\n",
    "print(type(wordsRDD))"
   ]
  },
  {
   "cell_type": "markdown",
   "metadata": {
    "slideshow": {
     "slide_type": "slide"
    }
   },
   "source": [
    "### Call `collect` on an RDD: Lazy Spark"
   ]
  },
  {
   "cell_type": "markdown",
   "metadata": {},
   "source": [
    "Spark is lazy. Until you `collect`, nothing is actually run.\n",
    "\n",
    ">Instead, they just remember the transformations applied to some base dataset (e.g. a file). The transformations are only computed when an action requires a result to be returned to the driver program."
   ]
  },
  {
   "cell_type": "code",
   "execution_count": 7,
   "metadata": {},
   "outputs": [
    {
     "data": {
      "text/plain": [
       "['cat', 'elephant', 'rat', 'rat', 'cat']"
      ]
     },
     "execution_count": 7,
     "metadata": {},
     "output_type": "execute_result"
    }
   ],
   "source": [
    "wordsRDD.collect()"
   ]
  },
  {
   "cell_type": "markdown",
   "metadata": {},
   "source": [
    "```\n",
    "15/10/21 14:59:59 INFO SparkContext: Starting job: collect at <ipython-input-6-dee494da0714>:1\n",
    "15/10/21 14:59:59 INFO DAGScheduler: Got job 0 (collect at <ipython-input-6-dee494da0714>:1) with 4 output partitions (allowLocal=false)\n",
    "15/10/21 14:59:59 INFO DAGScheduler: Final stage: ResultStage 0(collect at <ipython-input-6-dee494da0714>:1)\n",
    "15/10/21 14:59:59 INFO DAGScheduler: Parents of final stage: List()\n",
    "15/10/21 14:59:59 INFO DAGScheduler: Missing parents: List()\n",
    "15/10/21 14:59:59 INFO DAGScheduler: Submitting ResultStage 0 (ParallelCollectionRDD[0] at parallelize at PythonRDD.scala:396), which has no missing parents\n",
    "15/10/21 15:00:00 INFO MemoryStore: ensureFreeSpace(1224) called with curMem=0, maxMem=286300569\n",
    "15/10/21 15:00:00 INFO MemoryStore: Block broadcast_0 stored as values in memory (estimated size 1224.0 B, free 273.0 MB)\n",
    "15/10/21 15:00:00 INFO MemoryStore: ensureFreeSpace(777) called with curMem=1224, maxMem=286300569\n",
    "15/10/21 15:00:00 INFO MemoryStore: Block broadcast_0_piece0 stored as bytes in memory (estimated size 777.0 B, free 273.0 MB)\n",
    "15/10/21 15:00:00 INFO BlockManagerInfo: Added broadcast_0_piece0 in memory on localhost:64361 (size: 777.0 B, free: 273.0 MB)\n",
    "15/10/21 15:00:00 INFO SparkContext: Created broadcast 0 from broadcast at DAGScheduler.scala:874\n",
    "15/10/21 15:00:00 INFO DAGScheduler: Submitting 4 missing tasks from ResultStage 0 (ParallelCollectionRDD[0] at parallelize at PythonRDD.scala:396)\n",
    "15/10/21 15:00:00 INFO TaskSchedulerImpl: Adding task set 0.0 with 4 tasks\n",
    "15/10/21 15:00:00 INFO TaskSetManager: Starting task 0.0 in stage 0.0 (TID 0, localhost, PROCESS_LOCAL, 1379 bytes)\n",
    "15/10/21 15:00:00 INFO TaskSetManager: Starting task 1.0 in stage 0.0 (TID 1, localhost, PROCESS_LOCAL, 1384 bytes)\n",
    "15/10/21 15:00:00 INFO TaskSetManager: Starting task 2.0 in stage 0.0 (TID 2, localhost, PROCESS_LOCAL, 1379 bytes)\n",
    "15/10/21 15:00:00 INFO TaskSetManager: Starting task 3.0 in stage 0.0 (TID 3, localhost, PROCESS_LOCAL, 1403 bytes)\n",
    "15/10/21 15:00:00 INFO Executor: Running task 0.0 in stage 0.0 (TID 0)\n",
    "15/10/21 15:00:00 INFO Executor: Running task 2.0 in stage 0.0 (TID 2)\n",
    "15/10/21 15:00:00 INFO Executor: Running task 1.0 in stage 0.0 (TID 1)\n",
    "15/10/21 15:00:00 INFO Executor: Running task 3.0 in stage 0.0 (TID 3)\n",
    "15/10/21 15:00:00 INFO Executor: Finished task 1.0 in stage 0.0 (TID 1). 646 bytes result sent to driver\n",
    "15/10/21 15:00:00 INFO Executor: Finished task 3.0 in stage 0.0 (TID 3). 665 bytes result sent to driver\n",
    "15/10/21 15:00:00 INFO Executor: Finished task 0.0 in stage 0.0 (TID 0). 641 bytes result sent to driver\n",
    "15/10/21 15:00:00 INFO Executor: Finished task 2.0 in stage 0.0 (TID 2). 641 bytes result sent to driver\n",
    "15/10/21 15:00:00 INFO TaskSetManager: Finished task 1.0 in stage 0.0 (TID 1) in 61 ms on localhost (1/4)\n",
    "15/10/21 15:00:00 INFO TaskSetManager: Finished task 3.0 in stage 0.0 (TID 3) in 60 ms on localhost (2/4)\n",
    "15/10/21 15:00:00 INFO TaskSetManager: Finished task 0.0 in stage 0.0 (TID 0) in 96 ms on localhost (3/4)\n",
    "15/10/21 15:00:00 INFO TaskSetManager: Finished task 2.0 in stage 0.0 (TID 2) in 63 ms on localhost (4/4)\n",
    "15/10/21 15:00:00 INFO DAGScheduler: ResultStage 0 (collect at <ipython-input-6-dee494da0714>:1) finished in 0.120 s\n",
    "15/10/21 15:00:00 INFO TaskSchedulerImpl: Removed TaskSet 0.0, whose tasks have all completed, from pool\n",
    "15/10/21 15:00:00 INFO DAGScheduler: Job 0 finished: collect at <ipython-input-6-dee494da0714>:1, took 0.872367 s\n",
    "```"
   ]
  },
  {
   "cell_type": "markdown",
   "metadata": {},
   "source": [
    "### Operations on RDDs"
   ]
  },
  {
   "cell_type": "markdown",
   "metadata": {},
   "source": [
    "From the Spark Programming Guide:\n",
    "\n",
    ">RDDs support two types of operations: transformations, which create a new dataset from an existing one, and actions, which return a value to the driver program after running a computation on the dataset. For example, map is a transformation that passes each dataset element through a function and returns a new RDD representing the results. On the other hand, reduce is an action that aggregates all the elements of the RDD using some function and returns the final result to the driver program (although there is also a parallel reduceByKey that returns a distributed dataset)."
   ]
  },
  {
   "cell_type": "markdown",
   "metadata": {},
   "source": [
    "### Word Examples"
   ]
  },
  {
   "cell_type": "code",
   "execution_count": 9,
   "metadata": {},
   "outputs": [
    {
     "name": "stdout",
     "output_type": "stream",
     "text": [
      "cats\n"
     ]
    }
   ],
   "source": [
    "def makePlural(word):\n",
    "    return word + 's'\n",
    "\n",
    "print(makePlural('cat'))"
   ]
  },
  {
   "cell_type": "markdown",
   "metadata": {},
   "source": [
    "Transform one RDD into another."
   ]
  },
  {
   "cell_type": "code",
   "execution_count": 11,
   "metadata": {},
   "outputs": [
    {
     "name": "stdout",
     "output_type": "stream",
     "text": [
      "cats\n",
      "['cats', 'elephants']\n"
     ]
    }
   ],
   "source": [
    "pluralRDD = wordsRDD.map(makePlural)\n",
    "print(pluralRDD.first())\n",
    "print(pluralRDD.take(2))\n"
   ]
  },
  {
   "cell_type": "code",
   "execution_count": 12,
   "metadata": {},
   "outputs": [
    {
     "data": {
      "text/plain": [
       "['cats']"
      ]
     },
     "execution_count": 12,
     "metadata": {},
     "output_type": "execute_result"
    }
   ],
   "source": [
    "pluralRDD.take(1)"
   ]
  },
  {
   "cell_type": "code",
   "execution_count": 13,
   "metadata": {},
   "outputs": [
    {
     "data": {
      "text/plain": [
       "['cats', 'elephants', 'rats', 'rats', 'cats']"
      ]
     },
     "execution_count": 13,
     "metadata": {},
     "output_type": "execute_result"
    }
   ],
   "source": [
    "pluralRDD.collect()"
   ]
  },
  {
   "cell_type": "markdown",
   "metadata": {
    "slideshow": {
     "slide_type": "slide"
    }
   },
   "source": [
    "### Key Value Pairs"
   ]
  },
  {
   "cell_type": "code",
   "execution_count": 15,
   "metadata": {},
   "outputs": [
    {
     "name": "stdout",
     "output_type": "stream",
     "text": [
      "[('cat', 1), ('elephant', 1), ('rat', 1), ('rat', 1), ('cat', 1)]\n"
     ]
    }
   ],
   "source": [
    "wordPairs = wordsRDD.map(lambda w: (w, 1))\n",
    "print(wordPairs.collect())"
   ]
  },
  {
   "cell_type": "markdown",
   "metadata": {},
   "source": [
    "```\n",
    "➜  sparklect  ps auxwww | grep pyspark\n",
    "rahul           30685   0.4  0.8  3458120  68712 s012  S+    2:46PM   2:00.21 /System/Library/Java/JavaVirtualMachines/1.6.0.jdk/Contents/Home/bin/java -cp /usr/local/opt/apache-spark/libexec/conf/:/usr/local/opt/apache-spark/libexec/lib/spark-assembly-1.4.0-hadoop2.6.0.jar:/usr/local/opt/apache-spark/libexec/lib/datanucleus-api-jdo-3.2.6.jar:/usr/local/opt/apache-spark/libexec/lib/datanucleus-core-3.2.10.jar:/usr/local/opt/apache-spark/libexec/lib/datanucleus-rdbms-3.2.9.jar -Xms512m -Xmx512m -XX:MaxPermSize=128m org.apache.spark.deploy.SparkSubmit pyspark-shell\n",
    "rahul           31520   0.0  0.0  2432784    480 s011  R+    6:42PM   0:00.00 grep --color=auto --exclude-dir=.bzr --exclude-dir=.cvs --exclude-dir=.git --exclude-dir=.hg --exclude-dir=.svn pyspark\n",
    "rahul           31494   0.0  0.7  2548972  57288 s012  S     6:41PM   0:00.10 python -m pyspark.daemon\n",
    "rahul           31493   0.0  0.7  2548972  57308 s012  S     6:41PM   0:00.10 python -m pyspark.daemon\n",
    "rahul           31492   0.0  0.7  2548972  57288 s012  S     6:41PM   0:00.11 python -m pyspark.daemon\n",
    "rahul           31446   0.0  0.8  2548972  68460 s012  S     6:35PM   0:01.34 python -m pyspark.daemon\n",
    "```"
   ]
  },
  {
   "cell_type": "markdown",
   "metadata": {
    "slideshow": {
     "slide_type": "slide"
    }
   },
   "source": [
    "### WORD COUNT!\n",
    "\n",
    "This little exercise shows how to use mapreduce to calculate the counts of individual words in a list."
   ]
  },
  {
   "cell_type": "code",
   "execution_count": 16,
   "metadata": {},
   "outputs": [
    {
     "name": "stdout",
     "output_type": "stream",
     "text": [
      "[('cat', 2), ('elephant', 1), ('rat', 2)]\n"
     ]
    }
   ],
   "source": [
    "wordsList = ['cat', 'elephant', 'rat', 'rat', 'cat']\n",
    "wordsRDD = sc.parallelize(wordsList, 4)\n",
    "wordCountsCollected = (wordsRDD\n",
    "                       .map(lambda w: (w, 1))\n",
    "                       .reduceByKey(lambda x,y: x+y)\n",
    "                       .collect())\n",
    "print(wordCountsCollected)"
   ]
  },
  {
   "cell_type": "markdown",
   "metadata": {
    "slideshow": {
     "slide_type": "slide"
    }
   },
   "source": [
    "![Tons of shuffling](https://databricks.gitbooks.io/databricks-spark-knowledge-base/content/images/reduce_by.png)"
   ]
  },
  {
   "cell_type": "code",
   "execution_count": 19,
   "metadata": {},
   "outputs": [
    {
     "name": "stdout",
     "output_type": "stream",
     "text": [
      "b'(4) PythonRDD[29] at RDD at PythonRDD.scala:48 []\\n |  MapPartitionsRDD[28] at mapPartitions at PythonRDD.scala:436 []\\n |  ShuffledRDD[27] at partitionBy at NativeMethodAccessorImpl.java:0 []\\n +-(4) PairwiseRDD[26] at reduceByKey at <ipython-input-19-a46b488739a0>:3 []\\n    |  PythonRDD[25] at reduceByKey at <ipython-input-19-a46b488739a0>:3 []\\n    |  ParallelCollectionRDD[9] at parallelize at PythonRDD.scala:489 []'\n"
     ]
    }
   ],
   "source": [
    "print((wordsRDD\n",
    "    .map(lambda w: (w, 1))\n",
    "    .reduceByKey(lambda x,y: x+y)).toDebugString())"
   ]
  },
  {
   "cell_type": "markdown",
   "metadata": {
    "slideshow": {
     "slide_type": "slide"
    }
   },
   "source": [
    "### Using Cache"
   ]
  },
  {
   "cell_type": "code",
   "execution_count": 20,
   "metadata": {},
   "outputs": [
    {
     "name": "stdout",
     "output_type": "stream",
     "text": [
      "ParallelCollectionRDD[30] at parallelize at PythonRDD.scala:489\n"
     ]
    },
    {
     "data": {
      "text/plain": [
       "5"
      ]
     },
     "execution_count": 20,
     "metadata": {},
     "output_type": "execute_result"
    }
   ],
   "source": [
    "wordsList = ['cat', 'elephant', 'rat', 'rat', 'cat']\n",
    "wordsRDD = sc.parallelize(wordsList, 4)\n",
    "print(wordsRDD)\n",
    "wordsRDD.count()"
   ]
  },
  {
   "cell_type": "markdown",
   "metadata": {},
   "source": [
    "Normally, every operation is run from the start. This may be inefficient in many cases. So when appropriate, we may want to cache the result the first time an operation is run on an RDD."
   ]
  },
  {
   "cell_type": "code",
   "execution_count": 21,
   "metadata": {},
   "outputs": [
    {
     "data": {
      "text/plain": [
       "5"
      ]
     },
     "execution_count": 21,
     "metadata": {},
     "output_type": "execute_result"
    }
   ],
   "source": [
    "#this is rerun from the start\n",
    "wordsRDD.count()"
   ]
  },
  {
   "cell_type": "code",
   "execution_count": 22,
   "metadata": {},
   "outputs": [
    {
     "data": {
      "text/plain": [
       "ParallelCollectionRDD[30] at parallelize at PythonRDD.scala:489"
      ]
     },
     "execution_count": 22,
     "metadata": {},
     "output_type": "execute_result"
    }
   ],
   "source": [
    "#default storage level (MEMORY_ONLY)\n",
    "wordsRDD.cache()#nothing done this is still lazy"
   ]
  },
  {
   "cell_type": "code",
   "execution_count": 23,
   "metadata": {},
   "outputs": [
    {
     "data": {
      "text/plain": [
       "5"
      ]
     },
     "execution_count": 23,
     "metadata": {},
     "output_type": "execute_result"
    }
   ],
   "source": [
    "#parallelize is rerun and cached because we told it to cache\n",
    "wordsRDD.count()"
   ]
  },
  {
   "cell_type": "code",
   "execution_count": 24,
   "metadata": {},
   "outputs": [
    {
     "data": {
      "text/plain": [
       "5"
      ]
     },
     "execution_count": 24,
     "metadata": {},
     "output_type": "execute_result"
    }
   ],
   "source": [
    "#this `sc.parallelize` is not rerun in this case\n",
    "wordsRDD.count()"
   ]
  },
  {
   "cell_type": "markdown",
   "metadata": {},
   "source": [
    "Where is this useful: it is when you have branching parts or loops, so that you dont do things again and again. Spark, being \"lazy\" will rerun the chain again. So `cache` or `persist` serves as a checkpoint, breaking the RDD chain or the *lineage*."
   ]
  },
  {
   "cell_type": "code",
   "execution_count": 25,
   "metadata": {},
   "outputs": [
    {
     "data": {
      "text/plain": [
       "{'cat': 'mammal',\n",
       " 'elephant': 'mammal',\n",
       " 'heron': 'bird',\n",
       " 'owl': 'bird',\n",
       " 'rat': 'mammal'}"
      ]
     },
     "execution_count": 25,
     "metadata": {},
     "output_type": "execute_result"
    }
   ],
   "source": [
    "birdsList=['heron','owl']\n",
    "animList=wordsList+birdsList\n",
    "animaldict={}\n",
    "for e in wordsList:\n",
    "    animaldict[e]='mammal'\n",
    "for e in birdsList:\n",
    "    animaldict[e]='bird'\n",
    "animaldict"
   ]
  },
  {
   "cell_type": "code",
   "execution_count": 27,
   "metadata": {},
   "outputs": [
    {
     "name": "stdout",
     "output_type": "stream",
     "text": [
      "5 2\n"
     ]
    }
   ],
   "source": [
    "animsrdd = sc.parallelize(animList, 4)\n",
    "animsrdd.cache()\n",
    "#below runs the whole chain but causes cache to be populated\n",
    "mammalcount=animsrdd.filter(lambda w: animaldict[w]=='mammal').count()\n",
    "#now only the filter is carried out\n",
    "birdcount=animsrdd.filter(lambda w: animaldict[w]=='bird').count()\n",
    "print(mammalcount, birdcount)"
   ]
  },
  {
   "cell_type": "code",
   "execution_count": null,
   "metadata": {
    "collapsed": true
   },
   "outputs": [],
   "source": []
  },
  {
   "cell_type": "markdown",
   "metadata": {},
   "source": [
    "### Exercises: Fun with MapReduce\n",
    "\n",
    "Read http://spark.apache.org/docs/latest/programming-guide.html for some useful background and then try out the following exercises"
   ]
  },
  {
   "cell_type": "markdown",
   "metadata": {},
   "source": [
    "The file `./sparklect/english.stop.txt` contains a list of English stopwords, while the file `./sparklect/shakes/juliuscaesar.txt` contains the entire text of Shakespeare's 'Julius Caesar'.\n",
    "\n",
    "* Load all of the stopwords into a Python list\n",
    "* Load the text of Julius Caesar into an RDD using the `sparkcontext.textfile()` method. Call it `juliusrdd`."
   ]
  },
  {
   "cell_type": "code",
   "execution_count": 46,
   "metadata": {},
   "outputs": [],
   "source": [
    "# your turn\n",
    "# Opening the stopwords file and loading it into a Python list\n",
    "stopwords = open(\"./sparklect/english.stop.txt\", \"r\")\n",
    "lines = stopwords.readlines()\n",
    "stopwords_list = []\n",
    "for i in lines:\n",
    "    stopwords_list.append(i.strip('\\n'))"
   ]
  },
  {
   "cell_type": "code",
   "execution_count": 77,
   "metadata": {},
   "outputs": [
    {
     "data": {
      "text/plain": [
       "PythonRDD[84] at RDD at PythonRDD.scala:48"
      ]
     },
     "execution_count": 77,
     "metadata": {},
     "output_type": "execute_result"
    }
   ],
   "source": [
    "# Opening the Julius Caesar file and loading it into an RDD\n",
    "jc_rdd = sc.textFile('./sparklect/shakes/juliuscaesar.txt').map(lambda x: x.split('\\t'))\n",
    "jc_rdd"
   ]
  },
  {
   "cell_type": "markdown",
   "metadata": {},
   "source": [
    "How many words does Julius Caesar have? *Hint: use `flatMap()`*."
   ]
  },
  {
   "cell_type": "code",
   "execution_count": 170,
   "metadata": {},
   "outputs": [
    {
     "data": {
      "text/plain": [
       "21257"
      ]
     },
     "execution_count": 170,
     "metadata": {},
     "output_type": "execute_result"
    }
   ],
   "source": [
    "# your turn\n",
    "# Processing and cleaning the Julius Caesar RDD by flattening it, replacing punctuations with blank spaces,\n",
    "# splitting it by blank spaces, removing extra blank spaces, removing nulls, and performing a word count in the end.\n",
    "jc_processed_rdd = jc_rdd.flatMap(lambda x: x[0].split()) \\\n",
    ".map(lambda y: y.replace(',',' ').replace('.',' ').replace('\"',' ').replace('!',' ') \\\n",
    "     .replace('<',' ').replace('>',' ').replace('?',' ').replace('\\n',' ').replace('\\t',' ') \\\n",
    "     .replace('\\'s',' ').replace('(',' ').replace(')',' ').replace('[',' ').replace(']',' ') \\\n",
    "     .replace('-',' ').replace(':',' ').lower()) \\\n",
    ".flatMap(lambda x: x.split()) \\\n",
    ".map(lambda z: z.strip()).map(lambda t: (t, 1) if len(t) > 0 else (t, 0)).filter(lambda x: x[1] == 1).map(lambda w: w[0])\n",
    "jc_processed_rdd.count()"
   ]
  },
  {
   "cell_type": "markdown",
   "metadata": {},
   "source": [
    "Now print the first 20 words of Julius Caesar as a Python list."
   ]
  },
  {
   "cell_type": "code",
   "execution_count": 171,
   "metadata": {},
   "outputs": [
    {
     "name": "stdout",
     "output_type": "stream",
     "text": [
      "['1599', 'the', 'tragedy', 'of', 'julius', 'caesar', 'by', 'william', 'shakespeare', 'dramatis', 'personae', 'julius', 'caesar', 'roman', 'statesman', 'and', 'general', 'octavius', 'triumvir', 'after']\n"
     ]
    }
   ],
   "source": [
    "# your turn\n",
    "# Using .take(20) to print first 20 words\n",
    "print(jc_processed_rdd.take(20))\n"
   ]
  },
  {
   "cell_type": "markdown",
   "metadata": {},
   "source": [
    "Now print the first 20 words of Julius Caesar, **after removing all the stopwords**. *Hint: use `filter()`*."
   ]
  },
  {
   "cell_type": "code",
   "execution_count": 177,
   "metadata": {},
   "outputs": [
    {
     "name": "stdout",
     "output_type": "stream",
     "text": [
      "['1599', 'tragedy', 'julius', 'caesar', 'william', 'shakespeare', 'dramatis', 'personae', 'julius', 'caesar', 'roman', 'statesman', 'general', 'octavius', 'triumvir', 'caesar', 'death', 'augustus', 'caesar', 'emperor']\n"
     ]
    }
   ],
   "source": [
    "# your turn\n",
    "# Using .filter() to filter stopwords using the stopwords list\n",
    "print(jc_processed_rdd.filter(lambda x: x not in stopwords_list).take(20))"
   ]
  },
  {
   "cell_type": "markdown",
   "metadata": {},
   "source": [
    "Now, use the word counting MapReduce code you've seen before. Count the number of times each word occurs and print the top 20 results as a list of tuples of the form `(word, count)`. *Hint: use `takeOrdered()` instead of `take()`*"
   ]
  },
  {
   "cell_type": "code",
   "execution_count": 180,
   "metadata": {},
   "outputs": [
    {
     "data": {
      "text/plain": [
       "[('brutus', 350),\n",
       " ('caesar', 273),\n",
       " ('cassius', 220),\n",
       " ('antony', 127),\n",
       " ('thou', 116),\n",
       " ('good', 71),\n",
       " ('casca', 70),\n",
       " ('citizen', 69),\n",
       " ('men', 63),\n",
       " ('lucius', 59),\n",
       " ('man', 58),\n",
       " ('enter', 57),\n",
       " ('thy', 54),\n",
       " ('thee', 53),\n",
       " ('messala', 46),\n",
       " ('octavius', 42),\n",
       " ('rome', 42),\n",
       " ('lord', 42),\n",
       " ('speak', 41),\n",
       " ('noble', 38)]"
      ]
     },
     "execution_count": 180,
     "metadata": {},
     "output_type": "execute_result"
    }
   ],
   "source": [
    "# your turn\n",
    "# Using .reduceByKey to perform word count and .takeOrdered() to take top 20 most frequent words\n",
    "top_20 = jc_processed_rdd.filter(lambda x: x not in stopwords_list).map(lambda x: (x, 1)) \\\n",
    ".reduceByKey(lambda x,y: x+y).takeOrdered(20, key=lambda x: -x[1])\n",
    "top_20"
   ]
  },
  {
   "cell_type": "markdown",
   "metadata": {},
   "source": [
    "Plot a bar graph. For each of the top 20 words on the X axis, represent the count on the Y axis."
   ]
  },
  {
   "cell_type": "code",
   "execution_count": 215,
   "metadata": {},
   "outputs": [
    {
     "data": {
      "image/png": "[encoded data removed]",
      "text/plain": [
       "<matplotlib.figure.Figure at 0x1239f3240>"
      ]
     },
     "metadata": {},
     "output_type": "display_data"
    }
   ],
   "source": [
    "# your turn\n",
    "import matplotlib.pyplot as plt\n",
    "%matplotlib inline\n",
    "\n",
    "x_axis = [x[0] for x in top_20]\n",
    "y_axis = [x[1] for x in top_20]\n",
    "\n",
    "plt.bar(x_axis, y_axis)\n",
    "plt.xticks(rotation=90)\n",
    "plt.title(\"Word Frequencies - Top 20\")\n",
    "plt.xlabel(\"Word\")\n",
    "plt.ylabel(\"Frequency\")\n",
    "plt.show()"
   ]
  },
  {
   "cell_type": "markdown",
   "metadata": {},
   "source": [
    "### Using partitions for parallelization"
   ]
  },
  {
   "cell_type": "markdown",
   "metadata": {},
   "source": [
    "In order to make your code more efficient, you want to use all of the available processing power, even on a single laptop. If your machine has multiple cores, you can tune the number of partitions to use all of them! From http://www.stat.berkeley.edu/scf/paciorek-spark-2014.html:\n",
    "\n",
    ">You want each partition to be able to fit in the memory availalbe on a node, and if you have multi-core nodes, you want that as many partitions as there are cores be able to fit in memory.\n",
    "\n",
    ">For load-balancing you'll want at least as many partitions as total computational cores in your cluster and probably rather more partitions. The Spark documentation suggests 2-4 partitions (which they also seem to call slices) per CPU. Often there are 100-10,000 partitions. Another rule of thumb is that tasks should take at least 100 ms. If less than that, you may want to repartition to have fewer partitions."
   ]
  },
  {
   "cell_type": "code",
   "execution_count": 216,
   "metadata": {
    "collapsed": true
   },
   "outputs": [],
   "source": [
    "shakesrdd=sc.textFile(\"./sparklect/shakes/*.txt\", minPartitions=4)"
   ]
  },
  {
   "cell_type": "code",
   "execution_count": 222,
   "metadata": {},
   "outputs": [
    {
     "data": {
      "text/plain": [
       "['XXXX',\n",
       " \"A MIDSUMMER NIGHT'S DREAM\",\n",
       " '',\n",
       " 'by William Shakespeare',\n",
       " '',\n",
       " '',\n",
       " '',\n",
       " '',\n",
       " 'Persons Represented.',\n",
       " '',\n",
       " 'THESEUS, Duke of Athens.',\n",
       " 'EGEUS, Father to Hermia.',\n",
       " 'LYSANDER, in love with Hermia.',\n",
       " 'DEMETRIUS, in love with Hermia.',\n",
       " 'PHILOSTRATE, Master of the Revels to Theseus.',\n",
       " 'QUINCE, the Carpenter.',\n",
       " 'SNUG, the Joiner.',\n",
       " 'BOTTOM, the Weaver.',\n",
       " 'FLUTE, the Bellows-mender.',\n",
       " 'SNOUT, the Tinker.',\n",
       " 'STARVELING, the Tailor.',\n",
       " '',\n",
       " 'HIPPOLYTA, Queen of the Amazons, bethrothed to Theseus.',\n",
       " 'HERMIA, daughter to Egeus, in love with Lysander.',\n",
       " 'HELENA, in love with Demetrius.',\n",
       " '',\n",
       " 'OBERON, King of the Fairies.',\n",
       " 'TITANIA, Queen of the Fairies.',\n",
       " 'PUCK, or ROBIN GOODFELLOW, a Fairy.',\n",
       " 'PEASBLOSSOM, Fairy.',\n",
       " 'COBWEB, Fairy.',\n",
       " 'MOTH, Fairy.',\n",
       " 'MUSTARDSEED, Fairy.',\n",
       " '',\n",
       " 'PYRAMUS, THISBE, WALL, MOONSHINE, LION } Characters in the',\n",
       " 'Interlude performed by the Clowns.',\n",
       " '',\n",
       " 'Other Fairies attending their King and Queen.',\n",
       " 'Attendants on Theseus and Hippolyta.',\n",
       " '',\n",
       " '',\n",
       " '',\n",
       " 'SCENE: Athens, and a wood not far from it.',\n",
       " '',\n",
       " 'ACT I.',\n",
       " '',\n",
       " 'SCENE I. Athens. A room in the Palace of THESEUS.',\n",
       " '',\n",
       " '[Enter THESEUS, HIPPOLYTA, PHILOSTRATE, and Attendants.]',\n",
       " '',\n",
       " 'THESEUS',\n",
       " 'Now, fair Hippolyta, our nuptial hour',\n",
       " 'Draws on apace; four happy days bring in',\n",
       " 'Another moon; but, oh, methinks, how slow',\n",
       " 'This old moon wanes! she lingers my desires,',\n",
       " 'Like to a step-dame or a dowager,',\n",
       " \"Long withering out a young man's revenue.\",\n",
       " '',\n",
       " 'HIPPOLYTA',\n",
       " 'Four days will quickly steep themselves in nights;',\n",
       " 'Four nights will quickly dream away the time;',\n",
       " 'And then the moon, like to a silver bow',\n",
       " 'New bent in heaven, shall behold the night',\n",
       " 'Of our solemnities.',\n",
       " '',\n",
       " 'THESEUS',\n",
       " '                    Go, Philostrate,',\n",
       " 'Stir up the Athenian youth to merriments;',\n",
       " 'Awake the pert and nimble spirit of mirth;',\n",
       " 'Turn melancholy forth to funerals--',\n",
       " 'The pale companion is not for our pomp. --',\n",
       " '',\n",
       " '[Exit PHILOSTRATE.]',\n",
       " '',\n",
       " \"Hippolyta, I woo'd thee with my sword,\",\n",
       " 'And won thy love doing thee injuries;',\n",
       " 'But I will wed thee in another key,',\n",
       " 'With pomp, with triumph, and with revelling.',\n",
       " '',\n",
       " '[Enter EGEUS, HERMIA, LYSANDER, and DEMETRIUS.]',\n",
       " '',\n",
       " 'EGEUS',\n",
       " 'Happy be Theseus, our renowned duke!',\n",
       " '',\n",
       " 'THESEUS',\n",
       " \"Thanks, good Egeus: what's the news with thee?\",\n",
       " '',\n",
       " 'EGEUS',\n",
       " 'Full of vexation come I, with complaint',\n",
       " 'Against my child, my daughter Hermia.--',\n",
       " 'Stand forth, Demetrius.--My noble lord,',\n",
       " 'This man hath my consent to marry her:--',\n",
       " 'Stand forth, Lysander;--and, my gracious duke,',\n",
       " \"This man hath bewitch'd the bosom of my child.\",\n",
       " 'Thou, thou, Lysander, thou hast given her rhymes,',\n",
       " \"And interchang'd love-tokens with my child:\",\n",
       " 'Thou hast by moonlight at her window sung,',\n",
       " 'With feigning voice, verses of feigning love;',\n",
       " \"And stol'n the impression of her fantasy\",\n",
       " 'With bracelets of thy hair, rings, gawds, conceits,',\n",
       " 'Knacks, trifles, nosegays, sweetmeats,--messengers',\n",
       " \"Of strong prevailment in unharden'd youth;--\",\n",
       " \"With cunning hast thou filch'd my daughter's heart;\",\n",
       " 'Turned her obedience, which is due to me,',\n",
       " 'To stubborn harshness.--And, my gracious duke,',\n",
       " 'Be it so she will not here before your grace',\n",
       " 'Consent to marry with Demetrius,',\n",
       " 'I beg the ancient privilege of Athens,--',\n",
       " 'As she is mine I may dispose of her:',\n",
       " 'Which shall be either to this gentleman',\n",
       " 'Or to her death; according to our law',\n",
       " 'Immediately provided in that case.',\n",
       " '',\n",
       " 'THESEUS',\n",
       " \"What say you, Hermia? be advis'd, fair maid:\",\n",
       " 'To you your father should be as a god;',\n",
       " \"One that compos'd your beauties: yea, and one\",\n",
       " 'To whom you are but as a form in wax,',\n",
       " 'By him imprinted, and within his power',\n",
       " 'To leave the figure, or disfigure it.',\n",
       " 'Demetrius is a worthy gentleman.',\n",
       " '',\n",
       " 'HERMIA',\n",
       " 'So is Lysander.',\n",
       " '',\n",
       " 'THESEUS',\n",
       " '                In himself he is:',\n",
       " \"But, in this kind, wanting your father's voice,\",\n",
       " 'The other must be held the worthier.',\n",
       " '',\n",
       " 'HERMIA',\n",
       " \"I would my father look'd but with my eyes.\",\n",
       " '',\n",
       " 'THESEUS',\n",
       " 'Rather your eyes must with his judgment look.',\n",
       " '',\n",
       " 'HERMIA',\n",
       " 'I do entreat your grace to pardon me.',\n",
       " 'I know not by what power I am made bold,',\n",
       " 'Nor how it may concern my modesty',\n",
       " 'In such a presence here to plead my thoughts:',\n",
       " 'But I beseech your grace that I may know',\n",
       " 'The worst that may befall me in this case',\n",
       " 'If I refuse to wed Demetrius.',\n",
       " '',\n",
       " 'THESEUS',\n",
       " 'Either to die the death, or to abjure',\n",
       " 'For ever the society of men.',\n",
       " 'Therefore, fair Hermia, question your desires,',\n",
       " 'Know of your youth, examine well your blood,',\n",
       " \"Whether, if you yield not to your father's choice,\",\n",
       " 'You can endure the livery of a nun;',\n",
       " \"For aye to be shady cloister mew'd,\",\n",
       " 'To live a barren sister all your life,',\n",
       " 'Chanting faint hymns to the cold, fruitless moon.',\n",
       " 'Thrice-blessed they that master so their blood',\n",
       " 'To undergo such maiden pilgrimage:',\n",
       " \"But earthlier happy is the rose distill'd\",\n",
       " 'Than that which, withering on the virgin thorn,',\n",
       " 'Grows, lives, and dies, in single blessedness.',\n",
       " '',\n",
       " 'HERMIA',\n",
       " 'So will I grow, so live, so die, my lord,',\n",
       " 'Ere I will yield my virgin patent up',\n",
       " 'Unto his lordship, whose unwished yoke',\n",
       " 'My soul consents not to give sovereignty.',\n",
       " '',\n",
       " 'THESEUS',\n",
       " 'Take time to pause; and by the next new moon,--',\n",
       " 'The sealing-day betwixt my love and me',\n",
       " 'For everlasting bond of fellowship,--',\n",
       " 'Upon that day either prepare to die',\n",
       " \"For disobedience to your father's will;\",\n",
       " 'Or else to wed Demetrius, as he would;',\n",
       " \"Or on Diana's altar to protest\",\n",
       " 'For aye austerity and single life.',\n",
       " '',\n",
       " 'DEMETRIUS',\n",
       " 'Relent, sweet Hermia;--and, Lysander, yield',\n",
       " 'Thy crazed title to my certain right.',\n",
       " '',\n",
       " 'LYSANDER',\n",
       " \"You have her father's love, Demetrius;\",\n",
       " \"Let me have Hermia's: do you marry him.\",\n",
       " '',\n",
       " 'EGEUS',\n",
       " 'Scornful Lysander! true, he hath my love;',\n",
       " 'And what is mine my love shall render him;',\n",
       " 'And she is mine; and all my right of her',\n",
       " 'I do estate unto Demetrius.',\n",
       " '',\n",
       " 'LYSANDER',\n",
       " \"I am, my lord, as well deriv'd as he,\",\n",
       " \"As well possess'd; my love is more than his;\",\n",
       " \"My fortunes every way as fairly rank'd,\",\n",
       " \"If not with vantage, as Demetrius's;\",\n",
       " 'And, which is more than all these boasts can be,',\n",
       " \"I am belov'd of beauteous Hermia:\",\n",
       " 'Why should not I then prosecute my right?',\n",
       " \"Demetrius, I'll avouch it to his head,\",\n",
       " \"Made love to Nedar's daughter, Helena,\",\n",
       " 'And won her soul; and she, sweet lady, dotes,',\n",
       " 'Devoutly dotes, dotes in idolatry,',\n",
       " 'Upon this spotted and inconstant man.',\n",
       " '',\n",
       " 'THESEUS',\n",
       " 'I must confess that I have heard so much,',\n",
       " 'And with Demetrius thought to have spoke thereof;',\n",
       " 'But, being over-full of self-affairs,',\n",
       " 'My mind did lose it.--But, Demetrius, come;',\n",
       " 'And come, Egeus; you shall go with me;',\n",
       " 'I have some private schooling for you both.--',\n",
       " 'For you, fair Hermia, look you arm yourself',\n",
       " \"To fit your fancies to your father's will,\",\n",
       " 'Or else the law of Athens yields you up,--',\n",
       " 'Which by no means we may extenuate,--',\n",
       " 'To death, or to a vow of single life.--',\n",
       " 'Come, my Hippolyta: what cheer, my love?',\n",
       " 'Demetrius, and Egeus, go along;',\n",
       " 'I must employ you in some business',\n",
       " 'Against our nuptial, and confer with you',\n",
       " 'Of something nearly that concerns yourselves.',\n",
       " '',\n",
       " 'EGEUS',\n",
       " 'With duty and desire we follow you.',\n",
       " '',\n",
       " '[Exeunt THESEUS, HIPPOLYTA, EGEUS, DEMETRIUS, and Train.]',\n",
       " '',\n",
       " 'LYSANDER',\n",
       " 'How now, my love! why is your cheek so pale?',\n",
       " 'How chance the roses there do fade so fast?',\n",
       " '',\n",
       " 'HERMIA',\n",
       " 'Belike for want of rain, which I could well',\n",
       " 'Beteem them from the tempest of my eyes.',\n",
       " '',\n",
       " 'LYSANDER',\n",
       " 'Ah me! for aught that I could ever read,',\n",
       " 'Could ever hear by tale or history,',\n",
       " 'The course of true love never did run smooth:',\n",
       " 'But either it was different in blood,--',\n",
       " '',\n",
       " 'HERMIA',\n",
       " \"O cross! Too high to be enthrall'd to low!\",\n",
       " '',\n",
       " 'LYSANDER',\n",
       " 'Or else misgraffed in respect of years;--',\n",
       " '',\n",
       " 'HERMIA',\n",
       " \"O spite! Too old to be engag'd to young!\",\n",
       " '',\n",
       " 'LYSANDER',\n",
       " 'Or else it stood upon the choice of friends:',\n",
       " '',\n",
       " 'HERMIA',\n",
       " \"O hell! to choose love by another's eye!\",\n",
       " '',\n",
       " 'LYSANDER',\n",
       " 'Or, if there were a sympathy in choice,',\n",
       " 'War, death, or sickness, did lay siege to it,',\n",
       " 'Making it momentary as a sound,',\n",
       " 'Swift as a shadow, short as any dream;',\n",
       " 'Brief as the lightning in the collied night',\n",
       " 'That, in a spleen, unfolds both heaven and earth,',\n",
       " 'And ere a man hath power to say, Behold!',\n",
       " 'The jaws of darkness do devour it up:',\n",
       " 'So quick bright things come to confusion.',\n",
       " '',\n",
       " 'HERMIA',\n",
       " \"If then true lovers have ever cross'd,\",\n",
       " 'It stands as an edict in destiny:',\n",
       " 'Then let us teach our trial patience,',\n",
       " 'Because it is a customary cross;',\n",
       " 'As due to love as thoughts, and dreams, and sighs,',\n",
       " \"Wishes and tears, poor fancy's followers.\",\n",
       " '',\n",
       " 'LYSANDER',\n",
       " 'A good persuasion; therefore, hear me, Hermia.',\n",
       " 'I have a widow aunt, a dowager',\n",
       " 'Of great revenue, and she hath no child:',\n",
       " 'From Athens is her house remote seven leagues;',\n",
       " 'And she respects me as her only son.',\n",
       " 'There, gentle Hermia, may I marry thee;',\n",
       " 'And to that place the sharp Athenian law',\n",
       " 'Cannot pursue us. If thou lovest me then,',\n",
       " \"Steal forth thy father's house tomorrow night;\",\n",
       " 'And in the wood, a league without the town,',\n",
       " 'Where I did meet thee once with Helena,',\n",
       " 'To do observance to a morn of May,',\n",
       " 'There will I stay for thee.',\n",
       " '',\n",
       " 'HERMIA',\n",
       " '                            My good Lysander!',\n",
       " \"I swear to thee by Cupid's strongest bow,\",\n",
       " 'By his best arrow, with the golden head,',\n",
       " \"By the simplicity of Venus' doves,\",\n",
       " 'By that which knitteth souls and prospers loves,',\n",
       " \"And by that fire which burn'd the Carthage queen,\",\n",
       " 'When the false Trojan under sail was seen,--',\n",
       " 'By all the vows that ever men have broke,',\n",
       " 'In number more than ever women spoke,--',\n",
       " 'In that same place thou hast appointed me,',\n",
       " 'Tomorrow truly will I meet with thee.',\n",
       " '',\n",
       " 'LYSANDER',\n",
       " 'Keep promise, love. Look, here comes Helena.',\n",
       " '',\n",
       " '[Enter HELENA.]',\n",
       " '',\n",
       " 'HERMIA',\n",
       " 'God speed fair Helena! Whither away?',\n",
       " '',\n",
       " 'HELENA',\n",
       " 'Call you me fair? that fair again unsay.',\n",
       " 'Demetrius loves your fair. O happy fair!',\n",
       " \"Your eyes are lode-stars; and your tongue's sweet air\",\n",
       " \"More tuneable than lark to shepherd's ear,\",\n",
       " 'When wheat is green, when hawthorn buds appear.',\n",
       " 'Sickness is catching: O, were favour so,',\n",
       " 'Yours would I catch, fair Hermia, ere I go;',\n",
       " 'My ear should catch your voice, my eye your eye,',\n",
       " \"My tongue should catch your tongue's sweet melody.\",\n",
       " 'Were the world mine, Demetrius being bated,',\n",
       " \"The rest I'd give to be to you translated.\",\n",
       " 'O, teach me how you look; and with what art',\n",
       " \"You sway the motion of Demetrius' heart!\",\n",
       " '',\n",
       " 'HERMIA',\n",
       " 'I frown upon him, yet he loves me still.',\n",
       " '',\n",
       " 'HELENA',\n",
       " 'O that your frowns would teach my smiles such skill!',\n",
       " '',\n",
       " 'HERMIA',\n",
       " 'I give him curses, yet he gives me love.',\n",
       " '',\n",
       " 'HELENA',\n",
       " 'O that my prayers could such affection move!',\n",
       " '',\n",
       " 'HERMIA',\n",
       " 'The more I hate, the more he follows me.',\n",
       " '',\n",
       " 'HELENA',\n",
       " 'The more I love, the more he hateth me.',\n",
       " '',\n",
       " 'HERMIA',\n",
       " 'His folly, Helena, is no fault of mine.',\n",
       " '',\n",
       " 'HELENA',\n",
       " 'None, but your beauty: would that fault were mine!',\n",
       " '',\n",
       " 'HERMIA',\n",
       " 'Take comfort; he no more shall see my face;',\n",
       " 'Lysander and myself will fly this place.--',\n",
       " 'Before the time I did Lysander see,',\n",
       " \"Seem'd Athens as a paradise to me:\",\n",
       " 'O, then, what graces in my love do dwell,',\n",
       " \"That he hath turn'd a heaven unto hell!\",\n",
       " '',\n",
       " 'LYSANDER',\n",
       " 'Helen, to you our minds we will unfold:',\n",
       " 'To-morrow night, when Phoebe doth behold',\n",
       " 'Her silver visage in the watery glass,',\n",
       " 'Decking with liquid pearl the bladed grass,--',\n",
       " \"A time that lovers' flights doth still conceal,--\",\n",
       " \"Through Athens' gates have we devis'd to steal.\",\n",
       " '',\n",
       " 'HERMIA',\n",
       " 'And in the wood where often you and I',\n",
       " 'Upon faint primrose beds were wont to lie,',\n",
       " 'Emptying our bosoms of their counsel sweet,',\n",
       " 'There my Lysander and myself shall meet:',\n",
       " 'And thence from Athens turn away our eyes,',\n",
       " 'To seek new friends and stranger companies.',\n",
       " 'Farewell, sweet playfellow: pray thou for us,',\n",
       " 'And good luck grant thee thy Demetrius!--',\n",
       " 'Keep word, Lysander: we must starve our sight',\n",
       " \"From lovers' food, till morrow deep midnight.\",\n",
       " '',\n",
       " 'LYSANDER',\n",
       " 'I will, my Hermia.',\n",
       " '',\n",
       " '[Exit HERMIA.]',\n",
       " '',\n",
       " 'LYSANDER',\n",
       " '                   Helena, adieu:',\n",
       " 'As you on him, Demetrius dote on you!',\n",
       " '',\n",
       " '[Exit LYSANDER.]',\n",
       " '',\n",
       " 'HELENA',\n",
       " \"How happy some o'er other some can be!\",\n",
       " 'Through Athens I am thought as fair as she.',\n",
       " 'But what of that? Demetrius thinks not so;',\n",
       " 'He will not know what all but he do know.',\n",
       " \"And as he errs, doting on Hermia's eyes,\",\n",
       " 'So I, admiring of his qualities.',\n",
       " 'Things base and vile, holding no quantity,',\n",
       " 'Love can transpose to form and dignity.',\n",
       " 'Love looks not with the eyes, but with the mind;',\n",
       " \"And therefore is wing'd Cupid painted blind.\",\n",
       " \"Nor hath love's mind of any judgment taste;\",\n",
       " 'Wings and no eyes figure unheedy haste:',\n",
       " 'And therefore is love said to be a child,',\n",
       " \"Because in choice he is so oft beguil'd.\",\n",
       " 'As waggish boys in game themselves forswear,',\n",
       " \"So the boy Love is perjur'd everywhere:\",\n",
       " \"For ere Demetrius look'd on Hermia's eyne,\",\n",
       " \"He hail'd down oaths that he was only mine;\",\n",
       " 'And when this hail some heat from Hermia felt,',\n",
       " \"So he dissolv'd, and showers of oaths did melt.\",\n",
       " \"I will go tell him of fair Hermia's flight;\",\n",
       " 'Then to the wood will he to-morrow night',\n",
       " 'Pursue her; and for this intelligence',\n",
       " 'If I have thanks, it is a dear expense:',\n",
       " 'But herein mean I to enrich my pain,',\n",
       " 'To have his sight thither and back again.',\n",
       " '',\n",
       " '[Exit HELENA.]',\n",
       " '',\n",
       " '',\n",
       " '',\n",
       " 'SCENE II. The Same. A Room in a Cottage.',\n",
       " '',\n",
       " '[Enter SNUG, BOTTOM, FLUTE, SNOUT, QUINCE, and STARVELING.]',\n",
       " '',\n",
       " 'QUINCE',\n",
       " 'Is all our company here?',\n",
       " '',\n",
       " 'BOTTOM',\n",
       " 'You were best to call them generally, man by man,',\n",
       " 'according to the scrip.',\n",
       " '',\n",
       " 'QUINCE',\n",
       " \"Here is the scroll of every man's name, which is thought\",\n",
       " 'fit, through all Athens, to play in our interlude before the',\n",
       " 'duke and duchess on his wedding-day at night.',\n",
       " '',\n",
       " 'BOTTOM',\n",
       " 'First, good Peter Quince, say what the play treats on;',\n",
       " 'then read the names of the actors; and so grow to a point.',\n",
       " '',\n",
       " 'QUINCE',\n",
       " 'Marry, our play is--The most lamentable comedy and most',\n",
       " 'cruel death of Pyramus and Thisby.',\n",
       " '',\n",
       " 'BOTTOM',\n",
       " 'A very good piece of work, I assure you, and a merry.--',\n",
       " 'Now, good Peter Quince, call forth your actors by the scroll.--',\n",
       " 'Masters, spread yourselves.',\n",
       " '',\n",
       " 'QUINCE',\n",
       " 'Answer, as I call you.--Nick Bottom, the weaver.',\n",
       " '',\n",
       " 'BOTTOM',\n",
       " 'Ready. Name what part I am for, and proceed.',\n",
       " '',\n",
       " 'QUINCE',\n",
       " 'You, Nick Bottom, are set down for Pyramus.',\n",
       " '',\n",
       " 'BOTTOM',\n",
       " 'What is Pyramus? a lover, or a tyrant?',\n",
       " '',\n",
       " 'QUINCE',\n",
       " 'A lover, that kills himself most gallantly for love.',\n",
       " '',\n",
       " 'BOTTOM',\n",
       " 'That will ask some tears in the true performing of it.',\n",
       " 'If I do it, let the audience look to their eyes; I will move',\n",
       " 'storms; I will condole in some measure. To the rest:--yet my',\n",
       " 'chief humour is for a tyrant: I could play Ercles rarely, or a',\n",
       " 'part to tear a cat in, to make all split.',\n",
       " '',\n",
       " 'The raging rocks',\n",
       " 'And shivering shocks',\n",
       " 'Shall break the locks',\n",
       " '    Of prison gates:',\n",
       " '',\n",
       " \"And Phibbus' car\",\n",
       " 'Shall shine from far,',\n",
       " 'And make and mar',\n",
       " '    The foolish Fates.',\n",
       " '',\n",
       " 'This was lofty.--Now name the rest of the players.--This is',\n",
       " \"Ercles' vein, a tyrant's vein;--a lover is more condoling.\",\n",
       " '',\n",
       " 'QUINCE',\n",
       " 'Francis Flute, the bellows-mender.',\n",
       " '',\n",
       " 'FLUTE',\n",
       " 'Here, Peter Quince.',\n",
       " '',\n",
       " 'QUINCE',\n",
       " 'Flute, you must take Thisby on you.',\n",
       " '',\n",
       " 'FLUTE',\n",
       " 'What is Thisby? a wandering knight?',\n",
       " '',\n",
       " 'QUINCE',\n",
       " 'It is the lady that Pyramus must love.']"
      ]
     },
     "execution_count": 222,
     "metadata": {},
     "output_type": "execute_result"
    }
   ],
   "source": [
    "shakesrdd.take(500)"
   ]
  },
  {
   "cell_type": "markdown",
   "metadata": {},
   "source": [
    "Now calculate the top 20 words in all of the files that you just read."
   ]
  },
  {
   "cell_type": "code",
   "execution_count": 224,
   "metadata": {},
   "outputs": [
    {
     "data": {
      "text/plain": [
       "368173"
      ]
     },
     "execution_count": 224,
     "metadata": {},
     "output_type": "execute_result"
    }
   ],
   "source": [
    "# your turn\n",
    "shakes_processed_rdd = shakesrdd.flatMap(lambda x: x.split()) \\\n",
    ".map(lambda y: y.replace(',',' ').replace('.',' ').replace('\"',' ').replace('!',' ') \\\n",
    "     .replace('<',' ').replace('>',' ').replace('?',' ').replace('\\n',' ').replace('\\t',' ') \\\n",
    "     .replace('\\'s',' ').replace('(',' ').replace(')',' ').replace('[',' ').replace(']',' ') \\\n",
    "     .replace('-',' ').replace(':',' ').lower()) \\\n",
    ".flatMap(lambda x: x.split()) \\\n",
    ".map(lambda z: z.strip()).map(lambda t: (t, 1) if len(t) > 0 else (t, 0)).filter(lambda x: x[1] == 1).map(lambda w: w[0])\n",
    "shakes_processed_rdd.count()\n"
   ]
  },
  {
   "cell_type": "code",
   "execution_count": 225,
   "metadata": {},
   "outputs": [
    {
     "data": {
      "text/plain": [
       "[('thou', 2134),\n",
       " ('thy', 1549),\n",
       " ('sir', 1237),\n",
       " ('thee', 1214),\n",
       " ('good', 1210),\n",
       " ('lord', 1058),\n",
       " ('enter', 1016),\n",
       " ('love', 948),\n",
       " ('man', 843),\n",
       " ('hath', 792),\n",
       " ('make', 654),\n",
       " (\"'tis\", 609),\n",
       " ('king', 605),\n",
       " ('duke', 584),\n",
       " ('give', 571),\n",
       " ('speak', 535),\n",
       " ('time', 477),\n",
       " ('father', 471),\n",
       " ('brutus', 461),\n",
       " ('exit', 444)]"
      ]
     },
     "execution_count": 225,
     "metadata": {},
     "output_type": "execute_result"
    }
   ],
   "source": [
    "top_20_shakes = shakes_processed_rdd.filter(lambda x: x not in stopwords_list).map(lambda x: (x, 1)) \\\n",
    ".reduceByKey(lambda x,y: x+y).takeOrdered(20, key=lambda x: -x[1])\n",
    "top_20_shakes"
   ]
  },
  {
   "cell_type": "code",
   "execution_count": 226,
   "metadata": {},
   "outputs": [
    {
     "data": {
      "image/png": "[encoded data removed]",
      "text/plain": [
       "<matplotlib.figure.Figure at 0x124017208>"
      ]
     },
     "metadata": {},
     "output_type": "display_data"
    }
   ],
   "source": [
    "x_axis = [x[0] for x in top_20_shakes]\n",
    "y_axis = [x[1] for x in top_20_shakes]\n",
    "\n",
    "plt.bar(x_axis, y_axis)\n",
    "plt.xticks(rotation=90)\n",
    "plt.title(\"Word Frequencies - Top 20 (Shakes)\")\n",
    "plt.xlabel(\"Word\")\n",
    "plt.ylabel(\"Frequency\")\n",
    "plt.show()"
   ]
  },
  {
   "cell_type": "markdown",
   "metadata": {},
   "source": [
    "## Optional topic 1: DataFrames\n",
    "\n",
    "Pandas and Spark dataframes can be easily converted to each other, making it easier to work with different data formats. This section shows some examples of each."
   ]
  },
  {
   "cell_type": "markdown",
   "metadata": {},
   "source": [
    "Convert Spark DataFrame to Pandas\n",
    "\n",
    "`pandas_df = spark_df.toPandas()`\n",
    "\n",
    "Create a Spark DataFrame from Pandas\n",
    "\n",
    "`spark_df = context.createDataFrame(pandas_df)`\n",
    "\n",
    "Must fit in memory.\n",
    "\n",
    "![](https://ogirardot.files.wordpress.com/2015/05/rdd-vs-dataframe.png?w=640&h=360)\n",
    "\n",
    "VERY IMPORTANT: DataFrames in Spark are like RDD in the sense that they’re an immutable data structure."
   ]
  },
  {
   "cell_type": "code",
   "execution_count": null,
   "metadata": {
    "collapsed": true
   },
   "outputs": [],
   "source": [
    "df=pd.read_csv(\"sparklect/01_heights_weights_genders.csv\")\n",
    "df.head()"
   ]
  },
  {
   "cell_type": "markdown",
   "metadata": {},
   "source": [
    "Convert this pandas dataframe to a Spark dataframe"
   ]
  },
  {
   "cell_type": "code",
   "execution_count": null,
   "metadata": {
    "collapsed": true
   },
   "outputs": [],
   "source": [
    "from pyspark.sql import SQLContext\n",
    "sqlsc=SQLContext(sc)\n",
    "sparkdf = sqlsc.createDataFrame(df)\n",
    "sparkdf"
   ]
  },
  {
   "cell_type": "code",
   "execution_count": null,
   "metadata": {
    "collapsed": true
   },
   "outputs": [],
   "source": [
    "sparkdf.show(5)"
   ]
  },
  {
   "cell_type": "code",
   "execution_count": null,
   "metadata": {
    "collapsed": true
   },
   "outputs": [],
   "source": [
    "type(sparkdf.Gender)"
   ]
  },
  {
   "cell_type": "code",
   "execution_count": null,
   "metadata": {
    "collapsed": true
   },
   "outputs": [],
   "source": [
    "temp = sparkdf.map(lambda r: r.Gender)\n",
    "print type(temp)\n",
    "temp.take(10)"
   ]
  },
  {
   "cell_type": "markdown",
   "metadata": {},
   "source": [
    "## Optional topic 2: Machine Learning using Spark\n",
    "\n",
    "While we don't go in-depth into machine learning using spark here, this sample code will help you get started."
   ]
  },
  {
   "cell_type": "code",
   "execution_count": null,
   "metadata": {
    "collapsed": true
   },
   "outputs": [],
   "source": [
    "from pyspark.mllib.classification import LogisticRegressionWithLBFGS\n",
    "from pyspark.mllib.regression import LabeledPoint"
   ]
  },
  {
   "cell_type": "markdown",
   "metadata": {},
   "source": [
    "Now create a data set from the Spark dataframe"
   ]
  },
  {
   "cell_type": "code",
   "execution_count": null,
   "metadata": {
    "collapsed": true
   },
   "outputs": [],
   "source": [
    "data=sparkdf.map(lambda row: LabeledPoint(row.Gender=='Male',[row.Height, row.Weight]))\n",
    "data.take(5)"
   ]
  },
  {
   "cell_type": "code",
   "execution_count": null,
   "metadata": {
    "collapsed": true
   },
   "outputs": [],
   "source": [
    "data2=sparkdf.map(lambda row: LabeledPoint(row[0]=='Male',row[1:]))\n",
    "data2.take(1)[0].label, data2.take(1)[0].features"
   ]
  },
  {
   "cell_type": "markdown",
   "metadata": {},
   "source": [
    "Split the data set into training and test sets"
   ]
  },
  {
   "cell_type": "code",
   "execution_count": null,
   "metadata": {
    "collapsed": true
   },
   "outputs": [],
   "source": [
    "train, test = data.randomSplit([0.7,0.3])\n",
    "train.cache()\n",
    "test.cache()"
   ]
  },
  {
   "cell_type": "code",
   "execution_count": null,
   "metadata": {
    "collapsed": true
   },
   "outputs": [],
   "source": [
    "type(train)"
   ]
  },
  {
   "cell_type": "markdown",
   "metadata": {},
   "source": [
    "Train the logistic regression model using MLIB"
   ]
  },
  {
   "cell_type": "code",
   "execution_count": null,
   "metadata": {
    "collapsed": true
   },
   "outputs": [],
   "source": [
    "model = LogisticRegressionWithLBFGS.train(train)"
   ]
  },
  {
   "cell_type": "code",
   "execution_count": null,
   "metadata": {
    "collapsed": true
   },
   "outputs": [],
   "source": [
    "model.weights"
   ]
  },
  {
   "cell_type": "markdown",
   "metadata": {},
   "source": [
    "Run it on the test data"
   ]
  },
  {
   "cell_type": "code",
   "execution_count": null,
   "metadata": {
    "collapsed": true
   },
   "outputs": [],
   "source": [
    "results = test.map(lambda lp: (lp.label, float(model.predict(lp.features))))\n",
    "print results.take(10)\n",
    "type(results)                       "
   ]
  },
  {
   "cell_type": "markdown",
   "metadata": {},
   "source": [
    "Measure accuracy and other metrics"
   ]
  },
  {
   "cell_type": "code",
   "execution_count": null,
   "metadata": {
    "collapsed": true
   },
   "outputs": [],
   "source": [
    "test_accuracy=results.filter(lambda (a,p): a==p).count()/float(results.count())\n",
    "test_accuracy"
   ]
  },
  {
   "cell_type": "code",
   "execution_count": null,
   "metadata": {
    "collapsed": true
   },
   "outputs": [],
   "source": [
    "from pyspark.mllib.evaluation import BinaryClassificationMetrics\n",
    "metrics = BinaryClassificationMetrics(results)"
   ]
  },
  {
   "cell_type": "code",
   "execution_count": null,
   "metadata": {
    "collapsed": true
   },
   "outputs": [],
   "source": [
    "print type(metrics)\n",
    "metrics.areaUnderROC"
   ]
  },
  {
   "cell_type": "code",
   "execution_count": null,
   "metadata": {
    "collapsed": true
   },
   "outputs": [],
   "source": [
    "type(model)"
   ]
  },
  {
   "cell_type": "code",
   "execution_count": null,
   "metadata": {
    "collapsed": true
   },
   "outputs": [],
   "source": [
    "!rm -rf mylogistic.model"
   ]
  },
  {
   "cell_type": "code",
   "execution_count": null,
   "metadata": {
    "collapsed": true
   },
   "outputs": [],
   "source": [
    "model.save(sc, \"mylogistic.model\")"
   ]
  },
  {
   "cell_type": "markdown",
   "metadata": {},
   "source": [
    "The pipeline API automates a lot of this stuff, allowing us to work directly on dataframes. It is not all supported in Python, as yet. "
   ]
  },
  {
   "cell_type": "markdown",
   "metadata": {},
   "source": [
    "Also see:\n",
    "\n",
    "- http://jordicasanellas.weebly.com/data-science-blog/machine-learning-with-spark\n",
    "- http://spark.apache.org/docs/latest/mllib-guide.html\n",
    "- http://www.techpoweredmath.com/spark-dataframes-mllib-tutorial/\n",
    "- http://spark.apache.org/docs/latest/api/python/\n",
    "- http://spark.apache.org/docs/latest/programming-guide.html"
   ]
  },
  {
   "cell_type": "markdown",
   "metadata": {},
   "source": [
    "`rdd.saveAsTextFile()` saves an RDD as a string."
   ]
  },
  {
   "cell_type": "code",
   "execution_count": null,
   "metadata": {
    "collapsed": true
   },
   "outputs": [],
   "source": [
    "sc.stop()"
   ]
  },
  {
   "cell_type": "code",
   "execution_count": null,
   "metadata": {
    "collapsed": true
   },
   "outputs": [],
   "source": []
  }
 ],
 "metadata": {
  "kernelspec": {
   "display_name": "Python [default]",
   "language": "python",
   "name": "python3"
  },
  "language_info": {
   "codemirror_mode": {
    "name": "ipython",
    "version": 3
   },
   "file_extension": ".py",
   "mimetype": "text/x-python",
   "name": "python",
   "nbconvert_exporter": "python",
   "pygments_lexer": "ipython3",
   "version": "3.6.3"
  }
 },
 "nbformat": 4,
 "nbformat_minor": 1
}
