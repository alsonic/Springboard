{
 "cells": [
  {
   "cell_type": "markdown",
   "metadata": {},
   "source": [
    "# What is the True Normal Human Body Temperature? \n",
    "\n",
    "#### Background\n",
    "\n",
    "The mean normal body temperature was held to be 37$^{\\circ}$C or 98.6$^{\\circ}$F for more than 120 years since it was first conceptualized and reported by Carl Wunderlich in a famous 1868 book. But, is this value statistically correct?"
   ]
  },
  {
   "cell_type": "markdown",
   "metadata": {},
   "source": [
    "<h3>Exercises</h3>\n",
    "\n",
    "<p>In this exercise, you will analyze a dataset of human body temperatures and employ the concepts of hypothesis testing, confidence intervals, and statistical significance.</p>\n",
    "\n",
    "<p>Answer the following questions <b>in this notebook below and submit to your Github account</b>.</p> \n",
    "\n",
    "<ol>\n",
    "<li>  Is the distribution of body temperatures normal? \n",
    "    <ul>\n",
    "    <li> Although this is not a requirement for CLT to hold (read CLT carefully), it gives us some peace of mind that the population may also be normally distributed if we assume that this sample is representative of the population.\n",
    "    </ul>\n",
    "<li>  Is the sample size large? Are the observations independent?\n",
    "    <ul>\n",
    "    <li> Remember that this is a condition for the CLT, and hence the statistical tests we are using, to apply.\n",
    "    </ul>\n",
    "<li>  Is the true population mean really 98.6 degrees F?\n",
    "    <ul>\n",
    "    <li> Would you use a one-sample or two-sample test? Why?\n",
    "    <li> In this situation, is it appropriate to use the $t$ or $z$ statistic? \n",
    "    <li> Now try using the other test. How is the result be different? Why?\n",
    "    </ul>\n",
    "<li>  Draw a small sample of size 10 from the data and repeat both tests. \n",
    "    <ul>\n",
    "    <li> Which one is the correct one to use? \n",
    "    <li> What do you notice? What does this tell you about the difference in application of the $t$ and $z$ statistic?\n",
    "    </ul>\n",
    "<li>  At what temperature should we consider someone's temperature to be \"abnormal\"?\n",
    "    <ul>\n",
    "    <li> Start by computing the margin of error and confidence interval.\n",
    "    </ul>\n",
    "<li>  Is there a significant difference between males and females in normal temperature?\n",
    "    <ul>\n",
    "    <li> What test did you use and why?\n",
    "    <li> Write a story with your conclusion in the context of the original problem.\n",
    "    </ul>\n",
    "</ol>\n",
    "\n",
    "You can include written notes in notebook cells using Markdown: \n",
    "   - In the control panel at the top, choose Cell > Cell Type > Markdown\n",
    "   - Markdown syntax: http://nestacms.com/docs/creating-content/markdown-cheat-sheet\n",
    "\n",
    "#### Resources\n",
    "\n",
    "+ Information and data sources: http://www.amstat.org/publications/jse/datasets/normtemp.txt, http://www.amstat.org/publications/jse/jse_data_archive.htm\n",
    "+ Markdown syntax: http://nestacms.com/docs/creating-content/markdown-cheat-sheet\n",
    "\n",
    "****"
   ]
  },
  {
   "cell_type": "code",
   "execution_count": 1,
   "metadata": {
    "collapsed": true
   },
   "outputs": [],
   "source": [
    "import pandas as pd\n",
    "\n",
    "df = pd.read_csv('data/human_body_temperature.csv')"
   ]
  },
  {
   "cell_type": "code",
   "execution_count": 131,
   "metadata": {},
   "outputs": [
    {
     "data": {
      "text/html": [
       "<div>\n",
       "<style scoped>\n",
       "    .dataframe tbody tr th:only-of-type {\n",
       "        vertical-align: middle;\n",
       "    }\n",
       "\n",
       "    .dataframe tbody tr th {\n",
       "        vertical-align: top;\n",
       "    }\n",
       "\n",
       "    .dataframe thead th {\n",
       "        text-align: right;\n",
       "    }\n",
       "</style>\n",
       "<table border=\"1\" class=\"dataframe\">\n",
       "  <thead>\n",
       "    <tr style=\"text-align: right;\">\n",
       "      <th></th>\n",
       "      <th>temperature</th>\n",
       "      <th>gender</th>\n",
       "      <th>heart_rate</th>\n",
       "    </tr>\n",
       "  </thead>\n",
       "  <tbody>\n",
       "    <tr>\n",
       "      <th>0</th>\n",
       "      <td>99.3</td>\n",
       "      <td>F</td>\n",
       "      <td>68.0</td>\n",
       "    </tr>\n",
       "    <tr>\n",
       "      <th>1</th>\n",
       "      <td>98.4</td>\n",
       "      <td>F</td>\n",
       "      <td>81.0</td>\n",
       "    </tr>\n",
       "    <tr>\n",
       "      <th>2</th>\n",
       "      <td>97.8</td>\n",
       "      <td>M</td>\n",
       "      <td>73.0</td>\n",
       "    </tr>\n",
       "    <tr>\n",
       "      <th>3</th>\n",
       "      <td>99.2</td>\n",
       "      <td>F</td>\n",
       "      <td>66.0</td>\n",
       "    </tr>\n",
       "    <tr>\n",
       "      <th>4</th>\n",
       "      <td>98.0</td>\n",
       "      <td>F</td>\n",
       "      <td>73.0</td>\n",
       "    </tr>\n",
       "  </tbody>\n",
       "</table>\n",
       "</div>"
      ],
      "text/plain": [
       "   temperature gender  heart_rate\n",
       "0         99.3      F        68.0\n",
       "1         98.4      F        81.0\n",
       "2         97.8      M        73.0\n",
       "3         99.2      F        66.0\n",
       "4         98.0      F        73.0"
      ]
     },
     "execution_count": 131,
     "metadata": {},
     "output_type": "execute_result"
    }
   ],
   "source": [
    "# Your work here.\n",
    "\n",
    "# df.head() to check the format of the dataframe.\n",
    "df.head()"
   ]
  },
  {
   "cell_type": "code",
   "execution_count": 29,
   "metadata": {
    "collapsed": true
   },
   "outputs": [],
   "source": [
    "# Importing relevant packages.\n",
    "import numpy as np\n",
    "import pandas as pd\n",
    "import matplotlib.pyplot as plt\n",
    "%matplotlib inline\n",
    "import scipy.stats as st"
   ]
  },
  {
   "cell_type": "markdown",
   "metadata": {},
   "source": [
    "    1. Is the distribution of body temperatures normal?"
   ]
  },
  {
   "cell_type": "code",
   "execution_count": 132,
   "metadata": {},
   "outputs": [
    {
     "data": {
      "image/png": "[encoded data removed]",
      "text/plain": [
       "<matplotlib.figure.Figure at 0x11a6259b0>"
      ]
     },
     "metadata": {},
     "output_type": "display_data"
    }
   ],
   "source": [
    "# A graphical method was used to determine if the body temperatures data is normal. The strategy is to obtain\n",
    "# the mean and the standard deviation from the dataset and use it to model the theoretical normal ECDF curve and \n",
    "# then plot it above the ECDF of the original data.\n",
    "\n",
    "# ECDF function\n",
    "def ecdf(data):\n",
    "    n = len(data)\n",
    "    x = np.sort(data)\n",
    "    y = np.arange(1, n + 1)/n\n",
    "    return x, y\n",
    "\n",
    "# Plotting the original data set\n",
    "x_temp, y_temp = ecdf(df.temperature)\n",
    "plt.plot(x_temp, y_temp, marker='.', linestyle='none')\n",
    "\n",
    "# Calculating the mean and standard deviation of original data set for theoretical normal curve modelling\n",
    "temp_mean = np.mean(df.temperature)\n",
    "temp_std = np.std(df.temperature)\n",
    "\n",
    "# Simulating normal distribution samples using mean and standard deviation from above\n",
    "normal_samples = np.random.normal(temp_mean, temp_std, 100000)\n",
    "\n",
    "# Plotting the theoretical curve\n",
    "x_temp_norm, y_temp_norm = ecdf(normal_samples)\n",
    "plt.plot(x_temp_norm, y_temp_norm)\n",
    "\n",
    "# Labelling axes, creating legend, and showing graph\n",
    "plt.xlabel(\"Temperature (F)\")\n",
    "plt.ylabel(\"ECDF\")\n",
    "plt.legend(['empirical', 'theoretical'], loc='upper left')\n",
    "plt.show()"
   ]
  },
  {
   "cell_type": "markdown",
   "metadata": {},
   "source": [
    "Using the empirical plots and the theoretical curve generated above, it can be concluded that the body temperature data is *fairly* normal. "
   ]
  },
  {
   "cell_type": "markdown",
   "metadata": {},
   "source": [
    "    2. Is there sample size large? Are the observations independent?"
   ]
  },
  {
   "cell_type": "code",
   "execution_count": 133,
   "metadata": {},
   "outputs": [
    {
     "name": "stdout",
     "output_type": "stream",
     "text": [
      "130\n"
     ]
    }
   ],
   "source": [
    "# Computing the sample size of the data set\n",
    "print(len(df))"
   ]
  },
  {
   "cell_type": "markdown",
   "metadata": {},
   "source": [
    "Since the size of the sample is 130 which is greater than 30, the sample size is considered large. The sampling distribution of the sample mean will tend towards a normal distribution.\n",
    "\n",
    "The observations are independent from each other."
   ]
  },
  {
   "cell_type": "markdown",
   "metadata": {},
   "source": [
    "    3. Is the true population mean really 98.6 degrees F?\n",
    "        - Would you use a one-sample or two-sample test? Why?"
   ]
  },
  {
   "cell_type": "markdown",
   "metadata": {},
   "source": [
    "In this situation, I would use a one-sample test. This is because we only have one sample and we are trying to test this against an established body temperature of 98.6 degrees F. The null hypothesis is that the true population mean is 98.6 degrees F. The strategy is to find out the probability that a mean temperature of 98.2 degrees F would occur in a trial."
   ]
  },
  {
   "cell_type": "markdown",
   "metadata": {},
   "source": [
    "Null hypothesis: the true population mean is really 98.6 degrees F. Confidence level tested is to be 95% (with 5% Type I error)."
   ]
  },
  {
   "cell_type": "code",
   "execution_count": 134,
   "metadata": {},
   "outputs": [
    {
     "name": "stdout",
     "output_type": "stream",
     "text": [
      "p-value:  0.0\n"
     ]
    },
    {
     "data": {
      "image/png": "[encoded data removed]",
      "text/plain": [
       "<matplotlib.figure.Figure at 0x11a85d208>"
      ]
     },
     "metadata": {},
     "output_type": "display_data"
    }
   ],
   "source": [
    "# The data set is shifted to the new mean of 98.6 degrees F\n",
    "temp_shifted = df.temperature - temp_mean + 98.6\n",
    "\n",
    "# Creating empty array\n",
    "temp_bs_replicates = np.empty(10000)\n",
    "\n",
    "# Creating bootstrap replicates for mean of bootstrap samples\n",
    "for i in range(10000):\n",
    "    temp_bs = np.random.choice(temp_shifted, len(temp_shifted))\n",
    "    temp_bs_replicates[i] = np.mean(temp_bs)\n",
    "\n",
    "# Finding the proportions of replicates with mean lower than or equal to mean of data set (98.2 degrees F)\n",
    "p1 = np.sum(temp_bs_replicates <= temp_mean)/len(temp_bs_replicates)\n",
    "print('p-value: ', p1)\n",
    "\n",
    "# Visualizing the sampling distribution of the sample mean\n",
    "plt.hist(temp_bs_replicates, normed=True)\n",
    "plt.xlabel(\"Temperature (F)\")\n",
    "plt.ylabel(\"PDF\")\n",
    "plt.show()"
   ]
  },
  {
   "cell_type": "markdown",
   "metadata": {},
   "source": [
    "p-value was found to be 0. Therefore, the null hypothesis is to be rejected."
   ]
  },
  {
   "cell_type": "markdown",
   "metadata": {},
   "source": [
    "    - In this situation, is it appropriate to use the t or z statistic?"
   ]
  },
  {
   "cell_type": "markdown",
   "metadata": {},
   "source": [
    "In this situation, it is more appropriate to use z-statistic. This is because size of sample is 130 which is greater than 30; the sampling distribution of the sample mean will tend towards a normal distribution, and z-statistic models a normalized normal distribution."
   ]
  },
  {
   "cell_type": "code",
   "execution_count": 71,
   "metadata": {},
   "outputs": [
    {
     "name": "stdout",
     "output_type": "stream",
     "text": [
      "z_stat = -5.50, z_critical = 1.96\n",
      "Null hypothesis is rejected with 95% confidence\n"
     ]
    }
   ],
   "source": [
    "# Using z-statistic to test hypothesis with a 95% confidence\n",
    "\n",
    "# z_stat is to be calculated which is the normalized distance of the data set mean temperature from the sampling mean\n",
    "z_stat = (temp_mean - np.mean(temp_bs_replicates))/np.std(temp_bs_replicates)\n",
    "\n",
    "# z_critical is to be calculated which is the critical z-statistic at 97.5% (95% for two tails)\n",
    "z_critical = st.norm.ppf(0.975)\n",
    "\n",
    "print(\"z_stat = {:.2f}, z_critical = {:.2f}\".format(z_stat, z_critical))\n",
    "if z_critical < abs(z_stat):\n",
    "    print(\"Null hypothesis is rejected with 95% confidence\")"
   ]
  },
  {
   "cell_type": "markdown",
   "metadata": {},
   "source": [
    "    - Now try using the other test. How is the result different? Why?"
   ]
  },
  {
   "cell_type": "code",
   "execution_count": 135,
   "metadata": {},
   "outputs": [
    {
     "name": "stdout",
     "output_type": "stream",
     "text": [
      "t_stat = -5.46, t_critical = 1.98\n",
      "Null hypothesis is rejected with 95% confidence\n"
     ]
    }
   ],
   "source": [
    "# Using t-statistic to test hypothesis with a 95% confidence\n",
    "\n",
    "# t_stat is to be calculated which is the normalized distance of the data set mean temperature from the sampling mean\n",
    "t_stat = (temp_mean - np.mean(temp_bs_replicates))/np.std(temp_bs_replicates)\n",
    "\n",
    "# t_critical is to be calculated which is the critical t-statistic at 97.5% (95% for two tails)\n",
    "t_critical = st.t.ppf(0.975, 129)\n",
    "\n",
    "print(\"t_stat = {:.2f}, t_critical = {:.2f}\".format(t_stat, t_critical))\n",
    "if t_critical < abs(t_stat):\n",
    "    print(\"Null hypothesis is rejected with 95% confidence\")"
   ]
  },
  {
   "cell_type": "markdown",
   "metadata": {},
   "source": [
    "Both z-statistic and t-statistic tests arrived at the same conclusion. This is becasue sample size (n=130) is quite large and therefore t-statistic approaches normal distribution. It can be seen that z_critical and t_critical for 95% confidence are still different. This is because t-distribution would have fatter/thicker tails compared to normal (z) distribution and therefore 95% confidence interval in t-distribution extends further."
   ]
  },
  {
   "cell_type": "markdown",
   "metadata": {},
   "source": [
    "    4. Draw a small sample of size 10 from the data and repeat both tests.\n",
    "        - Which one is the correct one to use?\n",
    "        - What do you notice? What does this tell you about the difference in application of the  t  and  z statistic?"
   ]
  },
  {
   "cell_type": "code",
   "execution_count": 136,
   "metadata": {
    "collapsed": true
   },
   "outputs": [],
   "source": [
    "# Steps repeated from above to generate bootstrap replicates with smaller sample size (n=10)\n",
    "\n",
    "temp_shifted_small = np.random.choice(temp_shifted, 10)\n",
    "temp_bs_replicates_small = np.empty(10000)\n",
    "\n",
    "for i in range(10000):\n",
    "    temp_bs_small = np.random.choice(temp_shifted_small, len(temp_shifted_small))\n",
    "    temp_bs_replicates_small[i] = np.mean(temp_bs_small)"
   ]
  },
  {
   "cell_type": "code",
   "execution_count": 93,
   "metadata": {},
   "outputs": [
    {
     "name": "stdout",
     "output_type": "stream",
     "text": [
      "z_stat = -3.61, z_critical = 1.96\n",
      "Null hypothesis is rejected with 95% confidence\n"
     ]
    }
   ],
   "source": [
    "# Using z-statistic to test hypothesis with a 95% confidence and small sample size\n",
    "\n",
    "z_stat_small = (temp_mean - np.mean(temp_bs_replicates_small))/np.std(temp_bs_replicates_small)\n",
    "z_critical = st.norm.ppf(0.975)\n",
    "print(\"z_stat = {:.2f}, z_critical = {:.2f}\".format(z_stat_small, z_critical))\n",
    "if z_critical < abs(z_stat_small):\n",
    "    print(\"Null hypothesis is rejected with 95% confidence\")"
   ]
  },
  {
   "cell_type": "code",
   "execution_count": 94,
   "metadata": {},
   "outputs": [
    {
     "name": "stdout",
     "output_type": "stream",
     "text": [
      "t_stat = -3.61, t_critical = 2.26\n",
      "Null hypothesis is rejected with 95% confidence\n"
     ]
    }
   ],
   "source": [
    "# Using t-statistic to test hypothesis with a 95% confidence\n",
    "\n",
    "t_stat_small = (temp_mean - np.mean(temp_bs_replicates_small))/np.std(temp_bs_replicates_small)\n",
    "t_critical_small = st.t.ppf(0.975, 9)\n",
    "print(\"t_stat = {:.2f}, t_critical = {:.2f}\".format(t_stat_small, t_critical_small))\n",
    "if t_critical_small < abs(t_stat_small):\n",
    "    print(\"Null hypothesis is rejected with 95% confidence\")"
   ]
  },
  {
   "cell_type": "markdown",
   "metadata": {},
   "source": [
    "Now that sample size has dropped to 10, which is below 30, t-statistic is the correct one to use. From the calculations above, it can be noticed that t_critical has increased from 1.98 to 2.26 as degrees of freedom dropped from 129 (130 - 1) to 9 (10 - 1); this indicates the existence of the thicker tails. However, despite the changes, both t-statistic and z-statistic seemed to have arrived at the same conclusion."
   ]
  },
  {
   "cell_type": "markdown",
   "metadata": {},
   "source": [
    "    5. At what temperature should we consider someone's temperature to be \"abnormal\"?\n",
    "        - Start by computing the margin of error and confidence interval."
   ]
  },
  {
   "cell_type": "code",
   "execution_count": 110,
   "metadata": {},
   "outputs": [
    {
     "name": "stdout",
     "output_type": "stream",
     "text": [
      "confidence interval:  [ 98.47461538  98.72538462]\n",
      "margin of error:  [ 0.125378    0.12539123]\n"
     ]
    }
   ],
   "source": [
    "# Once again using sample size of 130, the margin of error and confidence interval are computed.\n",
    "\n",
    "# Confidence interval\n",
    "conf_interval = np.percentile(temp_bs_replicates, [2.5, 97.5])\n",
    "print(\"confidence interval: \", conf_interval)\n",
    "\n",
    "# Margin of error\n",
    "margin_of_error = abs(conf_interval - np.mean(temp_bs_replicates))\n",
    "print(\"margin of error: \", margin_of_error)"
   ]
  },
  {
   "cell_type": "markdown",
   "metadata": {},
   "source": [
    "Therefore, we should consider someone's temperature to be abnormal if it's less than 98.5F or above 98.7F."
   ]
  },
  {
   "cell_type": "markdown",
   "metadata": {},
   "source": [
    "    6. Is there a significant difference between males and females in normal temperature?\n",
    "        - What test did you use and why?\n",
    "        - Write a story with your conclusion in the context of the original problem."
   ]
  },
  {
   "cell_type": "markdown",
   "metadata": {},
   "source": [
    "Null hypothesis: there is no difference between male and female temperatures and any differences observed occurred by chance."
   ]
  },
  {
   "cell_type": "code",
   "execution_count": 137,
   "metadata": {},
   "outputs": [
    {
     "data": {
      "text/plain": [
       "gender\n",
       "F    98.393846\n",
       "M    98.104615\n",
       "Name: temperature, dtype: float64"
      ]
     },
     "execution_count": 137,
     "metadata": {},
     "output_type": "execute_result"
    }
   ],
   "source": [
    "# Use .groupby() method to work out the mean temperatures by gender\n",
    "df.groupby('gender').mean()['temperature']"
   ]
  },
  {
   "cell_type": "code",
   "execution_count": 138,
   "metadata": {},
   "outputs": [
    {
     "name": "stdout",
     "output_type": "stream",
     "text": [
      "Empirical difference in temperature between female and male:  0.289230769230727\n"
     ]
    }
   ],
   "source": [
    "# Separating the data set by gender\n",
    "temp_male = df[df['gender'] == 'M'].temperature\n",
    "temp_female = df[df['gender'] == 'F'].temperature\n",
    "\n",
    "# Calculating the empirical difference and storing it in a variable\n",
    "empirical_diff = np.mean(temp_female) - np.mean(temp_male)\n",
    "print(\"Empirical difference in temperature between female and male: \", empirical_diff)"
   ]
  },
  {
   "cell_type": "code",
   "execution_count": 139,
   "metadata": {},
   "outputs": [
    {
     "name": "stdout",
     "output_type": "stream",
     "text": [
      "p-value:  0.0114\n"
     ]
    },
    {
     "data": {
      "image/png": "[encoded data removed]",
      "text/plain": [
       "<matplotlib.figure.Figure at 0x11a8351d0>"
      ]
     },
     "metadata": {},
     "output_type": "display_data"
    }
   ],
   "source": [
    "# Computing permutation replicates of difference between the means of female and male\n",
    "temp_perm_replicates = np.empty(10000)\n",
    "for i in range(10000):\n",
    "    temp_perm = np.random.permutation(df.temperature)\n",
    "    temp_perm_replicates[i] = np.mean(temp_perm[len(temp_male):]) - np.mean(temp_perm[:len(temp_male)])\n",
    "\n",
    "# Working out the proportions of replicates with difference greater than the empirical_diff\n",
    "p2 = np.sum(temp_perm_replicates > empirical_diff)/len(temp_perm_replicates)\n",
    "print(\"p-value: \", p2)\n",
    "\n",
    "# Visualizing the sampling distribution\n",
    "plt.hist(temp_perm_replicates, normed=True)\n",
    "plt.xlabel(\"Temperature (F)\")\n",
    "plt.ylabel(\"PDF\")\n",
    "plt.show()"
   ]
  },
  {
   "cell_type": "markdown",
   "metadata": {},
   "source": [
    "p-value was found to be 0.0115, which is below 5%. Therefore, the null hypothesis was rejected; there is a significant difference between male and female temperatures. Female temperatures are generally higher than male temperatures."
   ]
  },
  {
   "cell_type": "markdown",
   "metadata": {},
   "source": [
    "In this case, two-sample test was done to test the difference of mean."
   ]
  },
  {
   "cell_type": "markdown",
   "metadata": {},
   "source": [
    "Based on the analyses done above, it can be concluded that with 95% confidence the mean body temperature is not 98.6F. Further analyses showed that there is a difference between male and female temperatures. Given that the body temperature of 98.6F was probably measured 120 years ago, it could be that the gender ratio has changed overtime. However, one should be open to causes outside the scope of this study, i.e. factors related to genetics, environmental, and degree of measurement accuracy 120 years ago."
   ]
  },
  {
   "cell_type": "code",
   "execution_count": null,
   "metadata": {
    "collapsed": true
   },
   "outputs": [],
   "source": []
  }
 ],
 "metadata": {
  "kernelspec": {
   "display_name": "Python [default]",
   "language": "python",
   "name": "python3"
  },
  "language_info": {
   "codemirror_mode": {
    "name": "ipython",
    "version": 3
   },
   "file_extension": ".py",
   "mimetype": "text/x-python",
   "name": "python",
   "nbconvert_exporter": "python",
   "pygments_lexer": "ipython3",
   "version": "3.6.3"
  }
 },
 "nbformat": 4,
 "nbformat_minor": 1
}
