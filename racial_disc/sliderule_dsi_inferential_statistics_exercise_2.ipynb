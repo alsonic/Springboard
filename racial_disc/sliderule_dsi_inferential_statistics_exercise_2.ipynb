{
 "cells": [
  {
   "cell_type": "markdown",
   "metadata": {},
   "source": [
    "# Examining Racial Discrimination in the US Job Market\n",
    "\n",
    "### Background\n",
    "Racial discrimination continues to be pervasive in cultures throughout the world. Researchers examined the level of racial discrimination in the United States labor market by randomly assigning identical résumés to black-sounding or white-sounding names and observing the impact on requests for interviews from employers.\n",
    "\n",
    "### Data\n",
    "In the dataset provided, each row represents a resume. The 'race' column has two values, 'b' and 'w', indicating black-sounding and white-sounding. The column 'call' has two values, 1 and 0, indicating whether the resume received a call from employers or not.\n",
    "\n",
    "Note that the 'b' and 'w' values in race are assigned randomly to the resumes when presented to the employer."
   ]
  },
  {
   "cell_type": "markdown",
   "metadata": {},
   "source": [
    "### Exercises\n",
    "You will perform a statistical analysis to establish whether race has a significant impact on the rate of callbacks for resumes.\n",
    "\n",
    "Answer the following questions **in this notebook below and submit to your Github account**. \n",
    "\n",
    "   1. What test is appropriate for this problem? Does CLT apply?\n",
    "   2. What are the null and alternate hypotheses?\n",
    "   3. Compute margin of error, confidence interval, and p-value.\n",
    "   4. Write a story describing the statistical significance in the context or the original problem.\n",
    "   5. Does your analysis mean that race/name is the most important factor in callback success? Why or why not? If not, how would you amend your analysis?\n",
    "\n",
    "You can include written notes in notebook cells using Markdown: \n",
    "   - In the control panel at the top, choose Cell > Cell Type > Markdown\n",
    "   - Markdown syntax: http://nestacms.com/docs/creating-content/markdown-cheat-sheet\n",
    "\n",
    "\n",
    "#### Resources\n",
    "+ Experiment information and data source: http://www.povertyactionlab.org/evaluation/discrimination-job-market-united-states\n",
    "+ Scipy statistical methods: http://docs.scipy.org/doc/scipy/reference/stats.html \n",
    "+ Markdown syntax: http://nestacms.com/docs/creating-content/markdown-cheat-sheet\n",
    "****"
   ]
  },
  {
   "cell_type": "code",
   "execution_count": 1,
   "metadata": {
    "collapsed": true
   },
   "outputs": [],
   "source": [
    "import pandas as pd\n",
    "import numpy as np\n",
    "from scipy import stats"
   ]
  },
  {
   "cell_type": "code",
   "execution_count": 2,
   "metadata": {},
   "outputs": [],
   "source": [
    "data = pd.io.stata.read_stata('data/us_job_market_discrimination.dta')"
   ]
  },
  {
   "cell_type": "code",
   "execution_count": 3,
   "metadata": {},
   "outputs": [
    {
     "data": {
      "text/plain": [
       "157.0"
      ]
     },
     "execution_count": 3,
     "metadata": {},
     "output_type": "execute_result"
    }
   ],
   "source": [
    "# number of callbacks for black-sounding names\n",
    "sum(data[data.race=='b'].call)"
   ]
  },
  {
   "cell_type": "code",
   "execution_count": 4,
   "metadata": {},
   "outputs": [
    {
     "data": {
      "text/html": [
       "<div>\n",
       "<style scoped>\n",
       "    .dataframe tbody tr th:only-of-type {\n",
       "        vertical-align: middle;\n",
       "    }\n",
       "\n",
       "    .dataframe tbody tr th {\n",
       "        vertical-align: top;\n",
       "    }\n",
       "\n",
       "    .dataframe thead th {\n",
       "        text-align: right;\n",
       "    }\n",
       "</style>\n",
       "<table border=\"1\" class=\"dataframe\">\n",
       "  <thead>\n",
       "    <tr style=\"text-align: right;\">\n",
       "      <th></th>\n",
       "      <th>id</th>\n",
       "      <th>ad</th>\n",
       "      <th>education</th>\n",
       "      <th>ofjobs</th>\n",
       "      <th>yearsexp</th>\n",
       "      <th>honors</th>\n",
       "      <th>volunteer</th>\n",
       "      <th>military</th>\n",
       "      <th>empholes</th>\n",
       "      <th>occupspecific</th>\n",
       "      <th>...</th>\n",
       "      <th>compreq</th>\n",
       "      <th>orgreq</th>\n",
       "      <th>manuf</th>\n",
       "      <th>transcom</th>\n",
       "      <th>bankreal</th>\n",
       "      <th>trade</th>\n",
       "      <th>busservice</th>\n",
       "      <th>othservice</th>\n",
       "      <th>missind</th>\n",
       "      <th>ownership</th>\n",
       "    </tr>\n",
       "  </thead>\n",
       "  <tbody>\n",
       "    <tr>\n",
       "      <th>0</th>\n",
       "      <td>b</td>\n",
       "      <td>1</td>\n",
       "      <td>4</td>\n",
       "      <td>2</td>\n",
       "      <td>6</td>\n",
       "      <td>0</td>\n",
       "      <td>0</td>\n",
       "      <td>0</td>\n",
       "      <td>1</td>\n",
       "      <td>17</td>\n",
       "      <td>...</td>\n",
       "      <td>1.0</td>\n",
       "      <td>0.0</td>\n",
       "      <td>1.0</td>\n",
       "      <td>0.0</td>\n",
       "      <td>0.0</td>\n",
       "      <td>0.0</td>\n",
       "      <td>0.0</td>\n",
       "      <td>0.0</td>\n",
       "      <td>0.0</td>\n",
       "      <td></td>\n",
       "    </tr>\n",
       "    <tr>\n",
       "      <th>1</th>\n",
       "      <td>b</td>\n",
       "      <td>1</td>\n",
       "      <td>3</td>\n",
       "      <td>3</td>\n",
       "      <td>6</td>\n",
       "      <td>0</td>\n",
       "      <td>1</td>\n",
       "      <td>1</td>\n",
       "      <td>0</td>\n",
       "      <td>316</td>\n",
       "      <td>...</td>\n",
       "      <td>1.0</td>\n",
       "      <td>0.0</td>\n",
       "      <td>1.0</td>\n",
       "      <td>0.0</td>\n",
       "      <td>0.0</td>\n",
       "      <td>0.0</td>\n",
       "      <td>0.0</td>\n",
       "      <td>0.0</td>\n",
       "      <td>0.0</td>\n",
       "      <td></td>\n",
       "    </tr>\n",
       "    <tr>\n",
       "      <th>2</th>\n",
       "      <td>b</td>\n",
       "      <td>1</td>\n",
       "      <td>4</td>\n",
       "      <td>1</td>\n",
       "      <td>6</td>\n",
       "      <td>0</td>\n",
       "      <td>0</td>\n",
       "      <td>0</td>\n",
       "      <td>0</td>\n",
       "      <td>19</td>\n",
       "      <td>...</td>\n",
       "      <td>1.0</td>\n",
       "      <td>0.0</td>\n",
       "      <td>1.0</td>\n",
       "      <td>0.0</td>\n",
       "      <td>0.0</td>\n",
       "      <td>0.0</td>\n",
       "      <td>0.0</td>\n",
       "      <td>0.0</td>\n",
       "      <td>0.0</td>\n",
       "      <td></td>\n",
       "    </tr>\n",
       "    <tr>\n",
       "      <th>3</th>\n",
       "      <td>b</td>\n",
       "      <td>1</td>\n",
       "      <td>3</td>\n",
       "      <td>4</td>\n",
       "      <td>6</td>\n",
       "      <td>0</td>\n",
       "      <td>1</td>\n",
       "      <td>0</td>\n",
       "      <td>1</td>\n",
       "      <td>313</td>\n",
       "      <td>...</td>\n",
       "      <td>1.0</td>\n",
       "      <td>0.0</td>\n",
       "      <td>1.0</td>\n",
       "      <td>0.0</td>\n",
       "      <td>0.0</td>\n",
       "      <td>0.0</td>\n",
       "      <td>0.0</td>\n",
       "      <td>0.0</td>\n",
       "      <td>0.0</td>\n",
       "      <td></td>\n",
       "    </tr>\n",
       "    <tr>\n",
       "      <th>4</th>\n",
       "      <td>b</td>\n",
       "      <td>1</td>\n",
       "      <td>3</td>\n",
       "      <td>3</td>\n",
       "      <td>22</td>\n",
       "      <td>0</td>\n",
       "      <td>0</td>\n",
       "      <td>0</td>\n",
       "      <td>0</td>\n",
       "      <td>313</td>\n",
       "      <td>...</td>\n",
       "      <td>1.0</td>\n",
       "      <td>1.0</td>\n",
       "      <td>0.0</td>\n",
       "      <td>0.0</td>\n",
       "      <td>0.0</td>\n",
       "      <td>0.0</td>\n",
       "      <td>0.0</td>\n",
       "      <td>1.0</td>\n",
       "      <td>0.0</td>\n",
       "      <td>Nonprofit</td>\n",
       "    </tr>\n",
       "  </tbody>\n",
       "</table>\n",
       "<p>5 rows × 65 columns</p>\n",
       "</div>"
      ],
      "text/plain": [
       "  id ad  education  ofjobs  yearsexp  honors  volunteer  military  empholes  \\\n",
       "0  b  1          4       2         6       0          0         0         1   \n",
       "1  b  1          3       3         6       0          1         1         0   \n",
       "2  b  1          4       1         6       0          0         0         0   \n",
       "3  b  1          3       4         6       0          1         0         1   \n",
       "4  b  1          3       3        22       0          0         0         0   \n",
       "\n",
       "   occupspecific    ...      compreq  orgreq  manuf  transcom  bankreal trade  \\\n",
       "0             17    ...          1.0     0.0    1.0       0.0       0.0   0.0   \n",
       "1            316    ...          1.0     0.0    1.0       0.0       0.0   0.0   \n",
       "2             19    ...          1.0     0.0    1.0       0.0       0.0   0.0   \n",
       "3            313    ...          1.0     0.0    1.0       0.0       0.0   0.0   \n",
       "4            313    ...          1.0     1.0    0.0       0.0       0.0   0.0   \n",
       "\n",
       "  busservice othservice  missind  ownership  \n",
       "0        0.0        0.0      0.0             \n",
       "1        0.0        0.0      0.0             \n",
       "2        0.0        0.0      0.0             \n",
       "3        0.0        0.0      0.0             \n",
       "4        0.0        1.0      0.0  Nonprofit  \n",
       "\n",
       "[5 rows x 65 columns]"
      ]
     },
     "execution_count": 4,
     "metadata": {},
     "output_type": "execute_result"
    }
   ],
   "source": [
    "data.head()"
   ]
  },
  {
   "cell_type": "code",
   "execution_count": 5,
   "metadata": {},
   "outputs": [
    {
     "data": {
      "text/plain": [
       "235.0"
      ]
     },
     "execution_count": 5,
     "metadata": {},
     "output_type": "execute_result"
    }
   ],
   "source": [
    "# number of callbacks for white-sounding names\n",
    "sum(data[data.race=='w'].call)"
   ]
  },
  {
   "cell_type": "markdown",
   "metadata": {},
   "source": [
    "    1. What is the appropriate test for this problem? Does CLT apply?"
   ]
  },
  {
   "cell_type": "markdown",
   "metadata": {},
   "source": [
    "The appropriate test for this problem is a Chi-square test. This is because we are trying to find out if proportion of call-back is independent with white/black-sounding name. With Chi-square test, CLT does not apply."
   ]
  },
  {
   "cell_type": "markdown",
   "metadata": {},
   "source": [
    "    2. What are the null and alternative hypotheses?"
   ]
  },
  {
   "cell_type": "markdown",
   "metadata": {},
   "source": [
    "Null hypothesis: white/black-sounding name does not have an impact on the chances of a call-back.\n",
    "\n",
    "Alternative hypothesis: white/black-sounding name does have an impact on the chances of a call-back.\n",
    "\n",
    "Establish that confidence level is 95%."
   ]
  },
  {
   "cell_type": "code",
   "execution_count": 6,
   "metadata": {},
   "outputs": [
    {
     "data": {
      "text/html": [
       "<div>\n",
       "<style scoped>\n",
       "    .dataframe tbody tr th:only-of-type {\n",
       "        vertical-align: middle;\n",
       "    }\n",
       "\n",
       "    .dataframe tbody tr th {\n",
       "        vertical-align: top;\n",
       "    }\n",
       "\n",
       "    .dataframe thead th {\n",
       "        text-align: right;\n",
       "    }\n",
       "</style>\n",
       "<table border=\"1\" class=\"dataframe\">\n",
       "  <thead>\n",
       "    <tr style=\"text-align: right;\">\n",
       "      <th>call</th>\n",
       "      <th>0.0</th>\n",
       "      <th>1.0</th>\n",
       "    </tr>\n",
       "    <tr>\n",
       "      <th>race</th>\n",
       "      <th></th>\n",
       "      <th></th>\n",
       "    </tr>\n",
       "  </thead>\n",
       "  <tbody>\n",
       "    <tr>\n",
       "      <th>b</th>\n",
       "      <td>2278</td>\n",
       "      <td>157</td>\n",
       "    </tr>\n",
       "    <tr>\n",
       "      <th>w</th>\n",
       "      <td>2200</td>\n",
       "      <td>235</td>\n",
       "    </tr>\n",
       "  </tbody>\n",
       "</table>\n",
       "</div>"
      ],
      "text/plain": [
       "call   0.0  1.0\n",
       "race           \n",
       "b     2278  157\n",
       "w     2200  235"
      ]
     },
     "execution_count": 6,
     "metadata": {},
     "output_type": "execute_result"
    }
   ],
   "source": [
    "table = pd.crosstab(data.race, data.call)\n",
    "table"
   ]
  },
  {
   "cell_type": "code",
   "execution_count": 7,
   "metadata": {},
   "outputs": [
    {
     "name": "stdout",
     "output_type": "stream",
     "text": [
      "chi2: 16.45, p-value: 0.00005, dof: 1, exp: [[ 2239.   196.]\n",
      " [ 2239.   196.]]\n"
     ]
    }
   ],
   "source": [
    "chi2, p, dof, exp = stats.chi2_contingency(table.values)\n",
    "print(\"chi2: {:.2f}, p-value: {:.5f}, dof: {}, exp: {}\".format(chi2, p, dof, exp))"
   ]
  },
  {
   "cell_type": "markdown",
   "metadata": {},
   "source": [
    "Since p-value is much less than 5% (p-value = 0.005%), the null hypothesis should be rejected."
   ]
  },
  {
   "cell_type": "markdown",
   "metadata": {},
   "source": [
    "    3. Compute margin of error, confidence interval, and p-value."
   ]
  },
  {
   "cell_type": "code",
   "execution_count": 8,
   "metadata": {},
   "outputs": [
    {
     "name": "stdout",
     "output_type": "stream",
     "text": [
      " empirical difference in proportions is: 0.032\n"
     ]
    }
   ],
   "source": [
    "# Computing the empirical proportions and empirical differences\n",
    "total = table.loc['b', 0] + table.loc['b', 1]\n",
    "empirical_prop_b = table.loc['b', 1]/total\n",
    "empirical_prop_w = table.loc['w', 1]/total\n",
    "empirical_diff = empirical_prop_w - empirical_prop_b\n",
    "print(\" empirical difference in proportions is: {:.3f}\".format(empirical_diff))"
   ]
  },
  {
   "cell_type": "code",
   "execution_count": 9,
   "metadata": {},
   "outputs": [],
   "source": [
    "# Generating samples of proportions for each using binomial distribution for modelling\n",
    "sample_prop_b = np.random.binomial(total, empirical_prop_b, 1000000)/total\n",
    "sample_prop_w = np.random.binomial(total, empirical_prop_w, 1000000)/total"
   ]
  },
  {
   "cell_type": "code",
   "execution_count": 10,
   "metadata": {},
   "outputs": [],
   "source": [
    "# Obtaining samples of differences in proportions\n",
    "sample_diff = sample_prop_w - sample_prop_b"
   ]
  },
  {
   "cell_type": "code",
   "execution_count": 11,
   "metadata": {},
   "outputs": [],
   "source": [
    "# As per null hypothesis, mean is shifted to 0\n",
    "sample_diff_shifted = sample_diff - np.mean(sample_diff)"
   ]
  },
  {
   "cell_type": "code",
   "execution_count": 12,
   "metadata": {},
   "outputs": [
    {
     "name": "stdout",
     "output_type": "stream",
     "text": [
      "z-statistic: 4.12\n"
     ]
    }
   ],
   "source": [
    "# Working out z-statistic for the empirical difference\n",
    "z_stat = (empirical_diff - 0)/np.std(sample_diff_shifted)\n",
    "print(\"z-statistic: {:.2f}\".format(z_stat))"
   ]
  },
  {
   "cell_type": "code",
   "execution_count": 13,
   "metadata": {},
   "outputs": [
    {
     "name": "stdout",
     "output_type": "stream",
     "text": [
      "z-critical: 1.96\n"
     ]
    }
   ],
   "source": [
    "# Working out z-critical for 95% (97.5% for two-tails)\n",
    "z_crit = stats.norm.ppf(0.975)\n",
    "print(\"z-critical: {:.2f}\".format(z_crit))"
   ]
  },
  {
   "cell_type": "code",
   "execution_count": 14,
   "metadata": {},
   "outputs": [
    {
     "name": "stdout",
     "output_type": "stream",
     "text": [
      "p-value: 0.000011\n"
     ]
    }
   ],
   "source": [
    "# Working out p-value\n",
    "p_value = np.sum(sample_diff_shifted > empirical_diff)/len(sample_diff_shifted)\n",
    "print(\"p-value: {:5f}\".format(p_value))"
   ]
  },
  {
   "cell_type": "code",
   "execution_count": 15,
   "metadata": {},
   "outputs": [
    {
     "name": "stdout",
     "output_type": "stream",
     "text": [
      "confidence level is: [-0.01519847  0.01519168]\n"
     ]
    }
   ],
   "source": [
    "# Working out confidence level\n",
    "confidence_interval = np.percentile(sample_diff_shifted, [2.5, 97.5])\n",
    "print(\"confidence level is: {}\".format(confidence_interval))"
   ]
  },
  {
   "cell_type": "code",
   "execution_count": 16,
   "metadata": {},
   "outputs": [
    {
     "name": "stdout",
     "output_type": "stream",
     "text": [
      "margin of error is: 0.015\n"
     ]
    }
   ],
   "source": [
    "# Working out margin of error\n",
    "margin_of_error = abs(confidence_interval) - 0\n",
    "print(\"margin of error is: {:.3f}\".format(np.mean(margin_of_error)))"
   ]
  },
  {
   "cell_type": "markdown",
   "metadata": {},
   "source": [
    "    4. Write a story describing the statistical significance in the context of the original problem."
   ]
  },
  {
   "cell_type": "markdown",
   "metadata": {},
   "source": [
    "The Chi-square test done above concluded that the call-back proportion isn't independent of race. In order to re-confirm the finding, logistic regression has been used on the available data. Using the regression model, the strongest predictors of call-back are largely firstnames of the candidates, which are reflections of the race. Therefore, based on the available data and associated analyses, it can be concluded that call-back proportion is impacted by the candidate's race. However, through the analysis, it was found that honours and special skills are both potential predictors of call-back."
   ]
  },
  {
   "cell_type": "code",
   "execution_count": 17,
   "metadata": {},
   "outputs": [
    {
     "name": "stderr",
     "output_type": "stream",
     "text": [
      "/Users/AlastairWong/anaconda3/lib/python3.6/site-packages/sklearn/cross_validation.py:41: DeprecationWarning: This module was deprecated in version 0.18 in favor of the model_selection module into which all the refactored classes and functions are moved. Also note that the interface of the new CV iterators are different from that of this module. This module will be removed in 0.20.\n",
      "  \"This module will be removed in 0.20.\", DeprecationWarning)\n"
     ]
    }
   ],
   "source": [
    "# Importing relevant packages for logistic regression\n",
    "from sklearn.linear_model import LogisticRegression\n",
    "from sklearn.cross_validation import train_test_split\n"
   ]
  },
  {
   "cell_type": "code",
   "execution_count": 18,
   "metadata": {},
   "outputs": [
    {
     "name": "stdout",
     "output_type": "stream",
     "text": [
      "(4870, 65)\n",
      "['id', 'ad', 'education', 'ofjobs', 'yearsexp', 'honors', 'volunteer', 'military', 'empholes', 'occupspecific', 'occupbroad', 'workinschool', 'email', 'computerskills', 'specialskills', 'firstname', 'sex', 'race', 'h', 'l', 'call', 'city', 'kind', 'adid', 'fracblack', 'fracwhite', 'lmedhhinc', 'fracdropout', 'fraccolp', 'linc', 'col', 'expminreq', 'schoolreq', 'eoe', 'parent_sales', 'parent_emp', 'branch_sales', 'branch_emp', 'fed', 'fracblack_empzip', 'fracwhite_empzip', 'lmedhhinc_empzip', 'fracdropout_empzip', 'fraccolp_empzip', 'linc_empzip', 'manager', 'supervisor', 'secretary', 'offsupport', 'salesrep', 'retailsales', 'req', 'expreq', 'comreq', 'educreq', 'compreq', 'orgreq', 'manuf', 'transcom', 'bankreal', 'trade', 'busservice', 'othservice', 'missind', 'ownership']\n"
     ]
    }
   ],
   "source": [
    "# Initial view of data\n",
    "print(data.shape)\n",
    "print(list(data.columns))"
   ]
  },
  {
   "cell_type": "code",
   "execution_count": 19,
   "metadata": {},
   "outputs": [
    {
     "data": {
      "text/html": [
       "<div>\n",
       "<style scoped>\n",
       "    .dataframe tbody tr th:only-of-type {\n",
       "        vertical-align: middle;\n",
       "    }\n",
       "\n",
       "    .dataframe tbody tr th {\n",
       "        vertical-align: top;\n",
       "    }\n",
       "\n",
       "    .dataframe thead th {\n",
       "        text-align: right;\n",
       "    }\n",
       "</style>\n",
       "<table border=\"1\" class=\"dataframe\">\n",
       "  <thead>\n",
       "    <tr style=\"text-align: right;\">\n",
       "      <th></th>\n",
       "      <th>id</th>\n",
       "      <th>ad</th>\n",
       "      <th>education</th>\n",
       "      <th>ofjobs</th>\n",
       "      <th>yearsexp</th>\n",
       "      <th>honors</th>\n",
       "      <th>volunteer</th>\n",
       "      <th>military</th>\n",
       "      <th>empholes</th>\n",
       "      <th>occupspecific</th>\n",
       "      <th>...</th>\n",
       "      <th>compreq</th>\n",
       "      <th>orgreq</th>\n",
       "      <th>manuf</th>\n",
       "      <th>transcom</th>\n",
       "      <th>bankreal</th>\n",
       "      <th>trade</th>\n",
       "      <th>busservice</th>\n",
       "      <th>othservice</th>\n",
       "      <th>missind</th>\n",
       "      <th>ownership</th>\n",
       "    </tr>\n",
       "  </thead>\n",
       "  <tbody>\n",
       "    <tr>\n",
       "      <th>0</th>\n",
       "      <td>b</td>\n",
       "      <td>1</td>\n",
       "      <td>4</td>\n",
       "      <td>2</td>\n",
       "      <td>6</td>\n",
       "      <td>0</td>\n",
       "      <td>0</td>\n",
       "      <td>0</td>\n",
       "      <td>1</td>\n",
       "      <td>17</td>\n",
       "      <td>...</td>\n",
       "      <td>1.0</td>\n",
       "      <td>0.0</td>\n",
       "      <td>1.0</td>\n",
       "      <td>0.0</td>\n",
       "      <td>0.0</td>\n",
       "      <td>0.0</td>\n",
       "      <td>0.0</td>\n",
       "      <td>0.0</td>\n",
       "      <td>0.0</td>\n",
       "      <td></td>\n",
       "    </tr>\n",
       "    <tr>\n",
       "      <th>1</th>\n",
       "      <td>b</td>\n",
       "      <td>1</td>\n",
       "      <td>3</td>\n",
       "      <td>3</td>\n",
       "      <td>6</td>\n",
       "      <td>0</td>\n",
       "      <td>1</td>\n",
       "      <td>1</td>\n",
       "      <td>0</td>\n",
       "      <td>316</td>\n",
       "      <td>...</td>\n",
       "      <td>1.0</td>\n",
       "      <td>0.0</td>\n",
       "      <td>1.0</td>\n",
       "      <td>0.0</td>\n",
       "      <td>0.0</td>\n",
       "      <td>0.0</td>\n",
       "      <td>0.0</td>\n",
       "      <td>0.0</td>\n",
       "      <td>0.0</td>\n",
       "      <td></td>\n",
       "    </tr>\n",
       "    <tr>\n",
       "      <th>2</th>\n",
       "      <td>b</td>\n",
       "      <td>1</td>\n",
       "      <td>4</td>\n",
       "      <td>1</td>\n",
       "      <td>6</td>\n",
       "      <td>0</td>\n",
       "      <td>0</td>\n",
       "      <td>0</td>\n",
       "      <td>0</td>\n",
       "      <td>19</td>\n",
       "      <td>...</td>\n",
       "      <td>1.0</td>\n",
       "      <td>0.0</td>\n",
       "      <td>1.0</td>\n",
       "      <td>0.0</td>\n",
       "      <td>0.0</td>\n",
       "      <td>0.0</td>\n",
       "      <td>0.0</td>\n",
       "      <td>0.0</td>\n",
       "      <td>0.0</td>\n",
       "      <td></td>\n",
       "    </tr>\n",
       "    <tr>\n",
       "      <th>3</th>\n",
       "      <td>b</td>\n",
       "      <td>1</td>\n",
       "      <td>3</td>\n",
       "      <td>4</td>\n",
       "      <td>6</td>\n",
       "      <td>0</td>\n",
       "      <td>1</td>\n",
       "      <td>0</td>\n",
       "      <td>1</td>\n",
       "      <td>313</td>\n",
       "      <td>...</td>\n",
       "      <td>1.0</td>\n",
       "      <td>0.0</td>\n",
       "      <td>1.0</td>\n",
       "      <td>0.0</td>\n",
       "      <td>0.0</td>\n",
       "      <td>0.0</td>\n",
       "      <td>0.0</td>\n",
       "      <td>0.0</td>\n",
       "      <td>0.0</td>\n",
       "      <td></td>\n",
       "    </tr>\n",
       "    <tr>\n",
       "      <th>4</th>\n",
       "      <td>b</td>\n",
       "      <td>1</td>\n",
       "      <td>3</td>\n",
       "      <td>3</td>\n",
       "      <td>22</td>\n",
       "      <td>0</td>\n",
       "      <td>0</td>\n",
       "      <td>0</td>\n",
       "      <td>0</td>\n",
       "      <td>313</td>\n",
       "      <td>...</td>\n",
       "      <td>1.0</td>\n",
       "      <td>1.0</td>\n",
       "      <td>0.0</td>\n",
       "      <td>0.0</td>\n",
       "      <td>0.0</td>\n",
       "      <td>0.0</td>\n",
       "      <td>0.0</td>\n",
       "      <td>1.0</td>\n",
       "      <td>0.0</td>\n",
       "      <td>Nonprofit</td>\n",
       "    </tr>\n",
       "  </tbody>\n",
       "</table>\n",
       "<p>5 rows × 65 columns</p>\n",
       "</div>"
      ],
      "text/plain": [
       "  id ad  education  ofjobs  yearsexp  honors  volunteer  military  empholes  \\\n",
       "0  b  1          4       2         6       0          0         0         1   \n",
       "1  b  1          3       3         6       0          1         1         0   \n",
       "2  b  1          4       1         6       0          0         0         0   \n",
       "3  b  1          3       4         6       0          1         0         1   \n",
       "4  b  1          3       3        22       0          0         0         0   \n",
       "\n",
       "   occupspecific    ...      compreq  orgreq  manuf  transcom  bankreal trade  \\\n",
       "0             17    ...          1.0     0.0    1.0       0.0       0.0   0.0   \n",
       "1            316    ...          1.0     0.0    1.0       0.0       0.0   0.0   \n",
       "2             19    ...          1.0     0.0    1.0       0.0       0.0   0.0   \n",
       "3            313    ...          1.0     0.0    1.0       0.0       0.0   0.0   \n",
       "4            313    ...          1.0     1.0    0.0       0.0       0.0   0.0   \n",
       "\n",
       "  busservice othservice  missind  ownership  \n",
       "0        0.0        0.0      0.0             \n",
       "1        0.0        0.0      0.0             \n",
       "2        0.0        0.0      0.0             \n",
       "3        0.0        0.0      0.0             \n",
       "4        0.0        1.0      0.0  Nonprofit  \n",
       "\n",
       "[5 rows x 65 columns]"
      ]
     },
     "execution_count": 19,
     "metadata": {},
     "output_type": "execute_result"
    }
   ],
   "source": [
    "# Initial view of data\n",
    "data.head()"
   ]
  },
  {
   "cell_type": "code",
   "execution_count": 20,
   "metadata": {},
   "outputs": [],
   "source": [
    "# Initialising a list of potential columns to keep and later on eliminating columns which are not used.\n",
    "to_keep = list(data.columns)"
   ]
  },
  {
   "cell_type": "code",
   "execution_count": 21,
   "metadata": {},
   "outputs": [
    {
     "name": "stdout",
     "output_type": "stream",
     "text": [
      "<class 'pandas.core.frame.DataFrame'>\n",
      "Int64Index: 4870 entries, 0 to 4869\n",
      "Data columns (total 65 columns):\n",
      "id                    4870 non-null object\n",
      "ad                    4870 non-null object\n",
      "education             4870 non-null int8\n",
      "ofjobs                4870 non-null int8\n",
      "yearsexp              4870 non-null int8\n",
      "honors                4870 non-null int8\n",
      "volunteer             4870 non-null int8\n",
      "military              4870 non-null int8\n",
      "empholes              4870 non-null int8\n",
      "occupspecific         4870 non-null int16\n",
      "occupbroad            4870 non-null int8\n",
      "workinschool          4870 non-null int8\n",
      "email                 4870 non-null int8\n",
      "computerskills        4870 non-null int8\n",
      "specialskills         4870 non-null int8\n",
      "firstname             4870 non-null object\n",
      "sex                   4870 non-null object\n",
      "race                  4870 non-null object\n",
      "h                     4870 non-null float32\n",
      "l                     4870 non-null float32\n",
      "call                  4870 non-null float32\n",
      "city                  4870 non-null object\n",
      "kind                  4870 non-null object\n",
      "adid                  4870 non-null float32\n",
      "fracblack             4784 non-null float32\n",
      "fracwhite             4784 non-null float32\n",
      "lmedhhinc             4784 non-null float32\n",
      "fracdropout           4784 non-null float32\n",
      "fraccolp              4784 non-null float32\n",
      "linc                  4784 non-null float32\n",
      "col                   4870 non-null float32\n",
      "expminreq             4870 non-null object\n",
      "schoolreq             4870 non-null object\n",
      "eoe                   4870 non-null float32\n",
      "parent_sales          1672 non-null float32\n",
      "parent_emp            1722 non-null float32\n",
      "branch_sales          608 non-null float32\n",
      "branch_emp            658 non-null float32\n",
      "fed                   3102 non-null float32\n",
      "fracblack_empzip      1918 non-null float32\n",
      "fracwhite_empzip      1918 non-null float32\n",
      "lmedhhinc_empzip      1908 non-null float32\n",
      "fracdropout_empzip    1918 non-null float32\n",
      "fraccolp_empzip       1918 non-null float32\n",
      "linc_empzip           1918 non-null float32\n",
      "manager               4870 non-null float32\n",
      "supervisor            4870 non-null float32\n",
      "secretary             4870 non-null float32\n",
      "offsupport            4870 non-null float32\n",
      "salesrep              4870 non-null float32\n",
      "retailsales           4870 non-null float32\n",
      "req                   4870 non-null float32\n",
      "expreq                4870 non-null float32\n",
      "comreq                4870 non-null float32\n",
      "educreq               4870 non-null float32\n",
      "compreq               4870 non-null float32\n",
      "orgreq                4870 non-null float32\n",
      "manuf                 4870 non-null float32\n",
      "transcom              4870 non-null float32\n",
      "bankreal              4870 non-null float32\n",
      "trade                 4870 non-null float32\n",
      "busservice            4870 non-null float32\n",
      "othservice            4870 non-null float32\n",
      "missind               4870 non-null float32\n",
      "ownership             4870 non-null object\n",
      "dtypes: float32(42), int16(1), int8(12), object(10)\n",
      "memory usage: 1.3+ MB\n"
     ]
    }
   ],
   "source": [
    "# Viewing columns along with their associated data type\n",
    "data.info()"
   ]
  },
  {
   "cell_type": "code",
   "execution_count": 22,
   "metadata": {},
   "outputs": [
    {
     "data": {
      "text/plain": [
       "array(['b', '281', '221', '366', '349', '254', '1', '393', '230', '290',\n",
       "       '402', '185', '358', '375', 'a', '359', '11', '403', '264', '291',\n",
       "       '315', '81', '187', '404', '292', '265', '360', '377', '232', '316',\n",
       "       '293', '233', '378', '317', '266', '405', '188', '361', '379',\n",
       "       '318', '362', '14', '294', '267', '406', '234', '189', '84', '295',\n",
       "       '380', '268', '319', '407', '363', '408', '381', '86', '269', '191',\n",
       "       '364', '296', '237', '87', '365', '142', '297', '270', '192', '321',\n",
       "       '271', '298', '238', '383', '322', '193', '19', '411', '239', '299',\n",
       "       '194', '144', '272', '222', '282', '255', '367', '394', '306',\n",
       "       '324', '240', '412', '90', '300', '196', '301', '274', '325', '413',\n",
       "       '386', '242', '414', '326', '275', '22', '387', '197', '147', '92',\n",
       "       '302', '415', '93', '303', '388', '276', '148', '243', '198', '304',\n",
       "       '24', '244', '416', '149', '277', '389', '245', '200', '95', '278',\n",
       "       '417', '25', '329', '150', '418', '391', '96', '330', '246', '151',\n",
       "       '247', '331', '27', '97', '419', '280', '202', '392', '420', '153',\n",
       "       '332', '28', '29', '249', '333', '154', '204', '421', '351', '3',\n",
       "       '223', '256', '307', '283', '368', '395', '205', '155', '334',\n",
       "       '100', '422', '250', '101', '251', '423', '336', '207', '32', '252',\n",
       "       '157', '425', '158', '103', '33', '253', '337', '209', '338', '34',\n",
       "       '159', '426', '35', '339', '160', '210', '105', '36', '161', '340',\n",
       "       '211', '107', '341', '37', '213', '38', '39', '343', '164', '369',\n",
       "       '396', '257', '352', '4', '344', '110', '215', '345', '216', '111',\n",
       "       '41', '346', '167', '42', '112', '113', '43', '347', '219', '348',\n",
       "       '169', '44', '220', '45', '116', '46', '47', '172', '117', '173',\n",
       "       '48', '119', '174', '353', '309', '130', '370', '75', '258', '285',\n",
       "       '175', '50', '120', '121', '122', '123', '53', '55', '125', '56',\n",
       "       '59', '354', '286', '76', '259', '398', '226', '181', '60', '64',\n",
       "       '69', '399', '372', '355', '311', '77', '182', '228', '288', '373',\n",
       "       '356', '8', '78', '261', '400', '313', '9', '262', '184', '229',\n",
       "       '401', '374'], dtype=object)"
      ]
     },
     "execution_count": 22,
     "metadata": {},
     "output_type": "execute_result"
    }
   ],
   "source": [
    "# Exploring each column to determine whether column should be used. If the meaning of columns are not \n",
    "# understood, columns are to be removed. Categorical columns are to be converted to 'category's.\n",
    "data.id.unique()"
   ]
  },
  {
   "cell_type": "code",
   "execution_count": 23,
   "metadata": {},
   "outputs": [
    {
     "data": {
      "text/plain": [
       "array(['1', '10', '100', '100b', '101b', '102', '103', '103b', '104',\n",
       "       '104b', '105', '105b', '107', '107b', '108', '108b', '109', '109b',\n",
       "       '10b', '11', '110b', '111', '111b', '112b', '117', '118', '119',\n",
       "       '11b', '12', '121', '122', '127', '12b', '13', '132', '133', '134',\n",
       "       '137', '138', '13b', '14', '141', '144', '14b', '15', '152', '153',\n",
       "       '154', '156', '157', '158', '159', '15b', '16', '161', '162', '163',\n",
       "       '164', '165', '166', '168', '169', '16b', '17', '170', '171', '172',\n",
       "       '173', '174', '175', '176', '177', '178', '179', '17b', '18', '180',\n",
       "       '181', '182', '183', '184', '185', '186', '187', '189', '18b', '19',\n",
       "       '190', '191', '192', '193', '194', '196', '197', '198', '199', '1b',\n",
       "       '2', '20', '201', '202', '203', '20b', '21', '211', '214', '215',\n",
       "       '217', '218', '219', '21b', '22', '220', '221', '222', '223', '224',\n",
       "       '225', '226', '227', '228', '229', '22b', '23', '232', '233', '234',\n",
       "       '235', '238', '239', '23b', '24', '240', '241', '242', '243', '244',\n",
       "       '246', '247', '248', '249', '24b', '25', '251', '252', '254', '255',\n",
       "       '256', '257', '258', '25b', '26', '261', '262', '266', '267', '26b',\n",
       "       '27', '271', '272', '273', '274', '276', '277', '279', '28', '281',\n",
       "       '282', '283', '284', '285', '286', '287', '288', '289', '28b', '29',\n",
       "       '290', '292', '293', '296', '297', '298', '29b', '2b', '3', '30',\n",
       "       '302', '303', '304', '306', '308', '30b', '31', '310', '313', '314',\n",
       "       '315', '316', '317', '318', '319', '31b', '32', '32b', '33', '34',\n",
       "       '34b', '35', '36', '37', '38', '38b', '39', '3b', '4', '40', '41',\n",
       "       '41b', '42', '42b', '43', '44', '45', '46', '46b', '47', '47b',\n",
       "       '48', '48b', '49', '49b', '4b', '5', '50', '50b', '51', '51b', '52',\n",
       "       '52b', '53', '54b', '55', '55b', '56', '57b', '58b', '59', '59b',\n",
       "       '5b', '6', '60', '60b', '61b', '62', '62b', '63', '63b', '64', '65',\n",
       "       '65b', '66b', '69', '69b', '6b', '7', '70', '70b', '72b', '74',\n",
       "       '74b', '75b', '76b', '77b', '78b', '79', '79b', '7b', '8', '81b',\n",
       "       '82b', '83b', '84b', '85', '86b', '87', '87b', '88b', '89', '8b',\n",
       "       '9', '91', '91b', '92', '92b', '93b', '95', '95b', '96', '96b',\n",
       "       '98b', '99', '99b'], dtype=object)"
      ]
     },
     "execution_count": 23,
     "metadata": {},
     "output_type": "execute_result"
    }
   ],
   "source": [
    "data.ad.unique()"
   ]
  },
  {
   "cell_type": "code",
   "execution_count": 24,
   "metadata": {},
   "outputs": [],
   "source": [
    "to_keep.remove('id')\n",
    "to_keep.remove('ad')"
   ]
  },
  {
   "cell_type": "code",
   "execution_count": 25,
   "metadata": {},
   "outputs": [
    {
     "data": {
      "text/plain": [
       "array([4, 3, 1, 2, 0])"
      ]
     },
     "execution_count": 25,
     "metadata": {},
     "output_type": "execute_result"
    }
   ],
   "source": [
    "data.education.unique()"
   ]
  },
  {
   "cell_type": "code",
   "execution_count": 26,
   "metadata": {},
   "outputs": [],
   "source": [
    "data.education = data.education.astype('category')"
   ]
  },
  {
   "cell_type": "code",
   "execution_count": 27,
   "metadata": {},
   "outputs": [],
   "source": [
    "data.ofjobs = data.ofjobs.astype('category')\n"
   ]
  },
  {
   "cell_type": "code",
   "execution_count": 28,
   "metadata": {},
   "outputs": [
    {
     "data": {
      "text/plain": [
       "array([ 6, 22,  5, 21,  3,  8,  4,  2,  7,  9, 13, 19, 12, 11, 10, 23,  1,\n",
       "       14, 18, 26, 15, 25, 16, 20, 17, 44])"
      ]
     },
     "execution_count": 28,
     "metadata": {},
     "output_type": "execute_result"
    }
   ],
   "source": [
    "data.yearsexp.unique()"
   ]
  },
  {
   "cell_type": "code",
   "execution_count": 29,
   "metadata": {},
   "outputs": [
    {
     "data": {
      "text/plain": [
       "array([0, 1])"
      ]
     },
     "execution_count": 29,
     "metadata": {},
     "output_type": "execute_result"
    }
   ],
   "source": [
    "data.honors.unique()"
   ]
  },
  {
   "cell_type": "code",
   "execution_count": 30,
   "metadata": {
    "collapsed": true
   },
   "outputs": [],
   "source": [
    "data.honors = data.honors.astype('category')"
   ]
  },
  {
   "cell_type": "code",
   "execution_count": 31,
   "metadata": {},
   "outputs": [
    {
     "data": {
      "text/plain": [
       "array([0, 1])"
      ]
     },
     "execution_count": 31,
     "metadata": {},
     "output_type": "execute_result"
    }
   ],
   "source": [
    "data.volunteer.unique()"
   ]
  },
  {
   "cell_type": "code",
   "execution_count": 32,
   "metadata": {
    "collapsed": true
   },
   "outputs": [],
   "source": [
    "data.volunteer = data.volunteer.astype('category')"
   ]
  },
  {
   "cell_type": "code",
   "execution_count": 33,
   "metadata": {},
   "outputs": [
    {
     "data": {
      "text/plain": [
       "array([0, 1])"
      ]
     },
     "execution_count": 33,
     "metadata": {},
     "output_type": "execute_result"
    }
   ],
   "source": [
    "data.military.unique()"
   ]
  },
  {
   "cell_type": "code",
   "execution_count": 34,
   "metadata": {
    "collapsed": true
   },
   "outputs": [],
   "source": [
    "data.military = data.military.astype('category')"
   ]
  },
  {
   "cell_type": "code",
   "execution_count": 35,
   "metadata": {},
   "outputs": [
    {
     "data": {
      "text/plain": [
       "array([1, 0])"
      ]
     },
     "execution_count": 35,
     "metadata": {},
     "output_type": "execute_result"
    }
   ],
   "source": [
    "data.empholes.unique()"
   ]
  },
  {
   "cell_type": "code",
   "execution_count": 36,
   "metadata": {
    "collapsed": true
   },
   "outputs": [],
   "source": [
    "data.empholes = data.empholes.astype('category')"
   ]
  },
  {
   "cell_type": "code",
   "execution_count": 37,
   "metadata": {},
   "outputs": [],
   "source": [
    "to_keep.remove('occupspecific')"
   ]
  },
  {
   "cell_type": "code",
   "execution_count": 38,
   "metadata": {
    "collapsed": true
   },
   "outputs": [],
   "source": [
    "to_keep.remove('occupbroad')"
   ]
  },
  {
   "cell_type": "code",
   "execution_count": 39,
   "metadata": {},
   "outputs": [
    {
     "data": {
      "text/plain": [
       "array([0, 1])"
      ]
     },
     "execution_count": 39,
     "metadata": {},
     "output_type": "execute_result"
    }
   ],
   "source": [
    "data.workinschool.unique()"
   ]
  },
  {
   "cell_type": "code",
   "execution_count": 40,
   "metadata": {
    "collapsed": true
   },
   "outputs": [],
   "source": [
    "data.workinschool = data.workinschool.astype('category')"
   ]
  },
  {
   "cell_type": "code",
   "execution_count": 41,
   "metadata": {},
   "outputs": [],
   "source": [
    "data.email = data.email.astype('category')"
   ]
  },
  {
   "cell_type": "code",
   "execution_count": 42,
   "metadata": {
    "collapsed": true
   },
   "outputs": [],
   "source": [
    "data.computerskills = data.computerskills.astype('category')"
   ]
  },
  {
   "cell_type": "code",
   "execution_count": 43,
   "metadata": {
    "collapsed": true
   },
   "outputs": [],
   "source": [
    "data.specialskills = data.specialskills.astype('category')"
   ]
  },
  {
   "cell_type": "code",
   "execution_count": 44,
   "metadata": {
    "collapsed": true
   },
   "outputs": [],
   "source": [
    "data.sex = data.sex.astype('category')"
   ]
  },
  {
   "cell_type": "code",
   "execution_count": 45,
   "metadata": {
    "collapsed": true
   },
   "outputs": [],
   "source": [
    "# The race is to be removed as it has association with firstname\n",
    "to_keep.remove('race')"
   ]
  },
  {
   "cell_type": "code",
   "execution_count": 46,
   "metadata": {},
   "outputs": [],
   "source": [
    "to_keep.remove('h')"
   ]
  },
  {
   "cell_type": "code",
   "execution_count": 47,
   "metadata": {
    "collapsed": true
   },
   "outputs": [],
   "source": [
    "to_keep.remove('l')"
   ]
  },
  {
   "cell_type": "code",
   "execution_count": 48,
   "metadata": {},
   "outputs": [],
   "source": [
    "# Remaining columns are to be removed for the purpose of this exercise.\n",
    "del to_keep[14:]"
   ]
  },
  {
   "cell_type": "code",
   "execution_count": 49,
   "metadata": {},
   "outputs": [],
   "source": [
    "data_refined = data[to_keep]"
   ]
  },
  {
   "cell_type": "code",
   "execution_count": 50,
   "metadata": {},
   "outputs": [
    {
     "name": "stdout",
     "output_type": "stream",
     "text": [
      "<class 'pandas.core.frame.DataFrame'>\n",
      "Int64Index: 4870 entries, 0 to 4869\n",
      "Data columns (total 14 columns):\n",
      "education         4870 non-null category\n",
      "ofjobs            4870 non-null category\n",
      "yearsexp          4870 non-null int8\n",
      "honors            4870 non-null category\n",
      "volunteer         4870 non-null category\n",
      "military          4870 non-null category\n",
      "empholes          4870 non-null category\n",
      "workinschool      4870 non-null category\n",
      "email             4870 non-null category\n",
      "computerskills    4870 non-null category\n",
      "specialskills     4870 non-null category\n",
      "firstname         4870 non-null object\n",
      "sex               4870 non-null category\n",
      "call              4870 non-null float32\n",
      "dtypes: category(11), float32(1), int8(1), object(1)\n",
      "memory usage: 153.6+ KB\n"
     ]
    }
   ],
   "source": [
    "# Columns to be used for the logistic regression\n",
    "data_refined.info()"
   ]
  },
  {
   "cell_type": "code",
   "execution_count": 51,
   "metadata": {},
   "outputs": [],
   "source": [
    "# Creating dummy variables for categorical variables\n",
    "cat_vars = ['education', 'ofjobs', 'honors', 'volunteer', 'military', 'empholes', 'workinschool', 'email', \\\n",
    "            'computerskills', 'specialskills', 'firstname', 'sex']\n",
    "for var in cat_vars:\n",
    "    cat_list = pd.get_dummies(data_refined[var], prefix=var)\n",
    "    data_refined = data_refined.join(cat_list)"
   ]
  },
  {
   "cell_type": "code",
   "execution_count": 52,
   "metadata": {},
   "outputs": [],
   "source": [
    "# Generating a comprehensive list of variables to be used including dummy variables\n",
    "data_vars = data_refined.columns.values.tolist()\n",
    "final_keep = [i for i in data_vars if i not in cat_vars]"
   ]
  },
  {
   "cell_type": "code",
   "execution_count": 53,
   "metadata": {},
   "outputs": [],
   "source": [
    "# Separating dependent and independent variables\n",
    "y = 'call'\n",
    "x = [i for i in final_keep if i != 'call']"
   ]
  },
  {
   "cell_type": "code",
   "execution_count": 54,
   "metadata": {},
   "outputs": [
    {
     "data": {
      "text/plain": [
       "[(1, 'firstname_Aisha'),\n",
       " (1, 'firstname_Brad'),\n",
       " (1, 'firstname_Keisha'),\n",
       " (1, 'firstname_Lakisha'),\n",
       " (1, 'firstname_Rasheed'),\n",
       " (1, 'firstname_Tamika'),\n",
       " (1, 'firstname_Tanisha'),\n",
       " (1, 'firstname_Tremayne'),\n",
       " (1, 'honors_0'),\n",
       " (1, 'specialskills_0'),\n",
       " (2, 'firstname_Kristen'),\n",
       " (3, 'firstname_Carrie'),\n",
       " (4, 'firstname_Jay'),\n",
       " (5, 'firstname_Darnell'),\n",
       " (6, 'education_0'),\n",
       " (7, 'ofjobs_1'),\n",
       " (8, 'empholes_0'),\n",
       " (9, 'firstname_Tyrone'),\n",
       " (10, 'firstname_Kareem'),\n",
       " (11, 'ofjobs_3'),\n",
       " (12, 'computerskills_1'),\n",
       " (13, 'firstname_Todd'),\n",
       " (14, 'firstname_Jermaine'),\n",
       " (15, 'volunteer_0'),\n",
       " (16, 'volunteer_1'),\n",
       " (17, 'email_0'),\n",
       " (18, 'firstname_Leroy'),\n",
       " (19, 'military_1'),\n",
       " (20, 'firstname_Meredith'),\n",
       " (21, 'firstname_Laurie'),\n",
       " (22, 'ofjobs_5'),\n",
       " (23, 'firstname_Matthew'),\n",
       " (24, 'firstname_Greg'),\n",
       " (25, 'sex_m'),\n",
       " (26, 'sex_f'),\n",
       " (27, 'firstname_Hakim'),\n",
       " (28, 'firstname_Ebony'),\n",
       " (29, 'firstname_Sarah'),\n",
       " (30, 'education_3'),\n",
       " (31, 'workinschool_0'),\n",
       " (32, 'workinschool_1'),\n",
       " (33, 'specialskills_1'),\n",
       " (34, 'firstname_Allison'),\n",
       " (35, 'ofjobs_4'),\n",
       " (36, 'firstname_Latonya'),\n",
       " (37, 'firstname_Jamal'),\n",
       " (38, 'military_0'),\n",
       " (39, 'education_2'),\n",
       " (40, 'education_1'),\n",
       " (41, 'firstname_Anne'),\n",
       " (42, 'email_1'),\n",
       " (43, 'firstname_Geoffrey'),\n",
       " (44, 'empholes_1'),\n",
       " (45, 'firstname_Jill'),\n",
       " (46, 'firstname_Neil'),\n",
       " (47, 'firstname_Kenya'),\n",
       " (48, 'firstname_Brett'),\n",
       " (49, 'computerskills_0'),\n",
       " (50, 'ofjobs_6'),\n",
       " (51, 'yearsexp'),\n",
       " (52, 'ofjobs_2'),\n",
       " (53, 'ofjobs_7'),\n",
       " (54, 'education_4'),\n",
       " (55, 'firstname_Brendan'),\n",
       " (56, 'honors_1'),\n",
       " (57, 'firstname_Latoya'),\n",
       " (58, 'firstname_Emily')]"
      ]
     },
     "execution_count": 54,
     "metadata": {},
     "output_type": "execute_result"
    }
   ],
   "source": [
    "# Using Recursive Feature Elimination (RFE) to choose the best features\n",
    "from sklearn.feature_selection import RFE\n",
    "logreg = LogisticRegression()\n",
    "rfe = RFE(logreg, 10).fit(data_refined[x], data_refined[y])\n",
    "# print(rfe.support_)\n",
    "# print(rfe.ranking_)\n",
    "ranks = sorted(zip(rfe.ranking_, x))\n",
    "ranks"
   ]
  },
  {
   "cell_type": "code",
   "execution_count": 55,
   "metadata": {},
   "outputs": [
    {
     "data": {
      "text/plain": [
       "['firstname_Aisha',\n",
       " 'firstname_Brad',\n",
       " 'firstname_Keisha',\n",
       " 'firstname_Lakisha',\n",
       " 'firstname_Rasheed',\n",
       " 'firstname_Tamika',\n",
       " 'firstname_Tanisha',\n",
       " 'firstname_Tremayne',\n",
       " 'honors_0',\n",
       " 'specialskills_0']"
      ]
     },
     "execution_count": 55,
     "metadata": {},
     "output_type": "execute_result"
    }
   ],
   "source": [
    "# Creating a new list with the best features selected by RFE\n",
    "selected_keep = []\n",
    "for i, j in ranks:\n",
    "    if i == 1:\n",
    "        selected_keep.append(j)\n",
    "selected_keep"
   ]
  },
  {
   "cell_type": "code",
   "execution_count": 56,
   "metadata": {
    "collapsed": true
   },
   "outputs": [],
   "source": [
    "# Workaround to debug chisqprob error\n",
    "stats.chisqprob = lambda chisq, df: stats.chi2.sf(chisq, df)"
   ]
  },
  {
   "cell_type": "code",
   "execution_count": 57,
   "metadata": {},
   "outputs": [
    {
     "name": "stderr",
     "output_type": "stream",
     "text": [
      "/Users/AlastairWong/anaconda3/lib/python3.6/site-packages/statsmodels/compat/pandas.py:56: FutureWarning: The pandas.core.datetools module is deprecated and will be removed in a future version. Please use the pandas.tseries module instead.\n",
      "  from pandas.core import datetools\n"
     ]
    },
    {
     "name": "stdout",
     "output_type": "stream",
     "text": [
      "Optimization terminated successfully.\n",
      "         Current function value: 0.274281\n",
      "         Iterations 8\n",
      "                           Logit Regression Results                           \n",
      "==============================================================================\n",
      "Dep. Variable:                   call   No. Observations:                 4870\n",
      "Model:                          Logit   Df Residuals:                     4860\n",
      "Method:                           MLE   Df Model:                            9\n",
      "Date:                Thu, 30 Nov 2017   Pseudo R-squ.:                 0.02033\n",
      "Time:                        20:04:10   Log-Likelihood:                -1335.7\n",
      "converged:                       True   LL-Null:                       -1363.5\n",
      "                                        LLR p-value:                 1.011e-08\n",
      "======================================================================================\n",
      "                         coef    std err          z      P>|z|      [0.025      0.975]\n",
      "--------------------------------------------------------------------------------------\n",
      "firstname_Aisha       -1.4817      0.511     -2.900      0.004      -2.483      -0.480\n",
      "firstname_Brad         0.6292      0.362      1.736      0.083      -0.081       1.340\n",
      "firstname_Keisha      -1.0151      0.395     -2.572      0.010      -1.789      -0.242\n",
      "firstname_Lakisha     -0.8285      0.323     -2.567      0.010      -1.461      -0.196\n",
      "firstname_Rasheed     -1.0446      0.724     -1.443      0.149      -2.464       0.375\n",
      "firstname_Tamika      -0.7002      0.286     -2.450      0.014      -1.260      -0.140\n",
      "firstname_Tanisha     -0.8185      0.311     -2.629      0.009      -1.429      -0.208\n",
      "firstname_Tremayne    -0.7882      0.603     -1.306      0.191      -1.971       0.394\n",
      "honors_0              -1.7685      0.076    -23.185      0.000      -1.918      -1.619\n",
      "specialskills_0       -0.9964      0.099    -10.077      0.000      -1.190      -0.803\n",
      "======================================================================================\n"
     ]
    }
   ],
   "source": [
    "# Using stats model to confirm that most of the p-values are below 0.05\n",
    "import statsmodels.api as sm\n",
    "logit_model = sm.Logit(data_refined[y], data_refined[selected_keep])\n",
    "stat_result = logit_model.fit()\n",
    "print(stat_result.summary())"
   ]
  },
  {
   "cell_type": "code",
   "execution_count": 58,
   "metadata": {},
   "outputs": [
    {
     "data": {
      "text/plain": [
       "LogisticRegression(C=1.0, class_weight=None, dual=False, fit_intercept=True,\n",
       "          intercept_scaling=1, max_iter=100, multi_class='ovr', n_jobs=1,\n",
       "          penalty='l2', random_state=None, solver='liblinear', tol=0.0001,\n",
       "          verbose=0, warm_start=False)"
      ]
     },
     "execution_count": 58,
     "metadata": {},
     "output_type": "execute_result"
    }
   ],
   "source": [
    "# Using train_test_split to split data into training and testing data\n",
    "x_train, x_test, y_train, y_test = train_test_split(data_refined[selected_keep], \\\n",
    "                                                    data_refined[y], test_size=0.3, random_state=42)\n",
    "# Fitting line with logistic regression\n",
    "logreg = LogisticRegression()\n",
    "logreg.fit(x_train, y_train)"
   ]
  },
  {
   "cell_type": "code",
   "execution_count": 59,
   "metadata": {},
   "outputs": [
    {
     "name": "stdout",
     "output_type": "stream",
     "text": [
      "Accuracy of logistic regression classifier on test set: 0.93\n"
     ]
    }
   ],
   "source": [
    "# Using logistic regression to predict values using x-test and printing accuracy\n",
    "y_pred = logreg.predict(x_test)\n",
    "print('Accuracy of logistic regression classifier on test set: {:.2f}'.format(logreg.score(x_test, y_test)))"
   ]
  },
  {
   "cell_type": "markdown",
   "metadata": {},
   "source": [
    "    5. Does your analysis mean that race/name is the most important factor in callback success? Why or why not? If not, how would you amend your analysis?\n"
   ]
  },
  {
   "cell_type": "markdown",
   "metadata": {},
   "source": [
    "According to my analysis, race/name is one of the most important factor in callback success, as the best predictors are largely constituted of names. However, it was also found that honors and special skills are also predictors which are potentially stronger predictors compared to race/name. I would amend my analysis by expanding the scope to also look at other columns in the table in my logistic regression (note that a large fraction of the columns had been left out for the purpose of this exercise)."
   ]
  },
  {
   "cell_type": "code",
   "execution_count": null,
   "metadata": {
    "collapsed": true
   },
   "outputs": [],
   "source": []
  }
 ],
 "metadata": {
  "kernelspec": {
   "display_name": "Python [default]",
   "language": "python",
   "name": "python3"
  },
  "language_info": {
   "codemirror_mode": {
    "name": "ipython",
    "version": 3
   },
   "file_extension": ".py",
   "mimetype": "text/x-python",
   "name": "python",
   "nbconvert_exporter": "python",
   "pygments_lexer": "ipython3",
   "version": "3.6.3"
  }
 },
 "nbformat": 4,
 "nbformat_minor": 1
}
